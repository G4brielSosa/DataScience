{
  "nbformat": 4,
  "nbformat_minor": 0,
  "metadata": {
    "colab": {
      "name": "Telecom - Data Analysis and Predictions.ipynb",
      "provenance": [],
      "collapsed_sections": [],
      "mount_file_id": "1Nqv-O0Ny7x2t9ZS59_NLRp5DPOcXFHhP",
      "authorship_tag": "ABX9TyPNBvmoyTHp1PN3VnotZE78",
      "include_colab_link": true
    },
    "kernelspec": {
      "name": "python3",
      "display_name": "Python 3"
    }
  },
  "cells": [
    {
      "cell_type": "markdown",
      "metadata": {
        "id": "view-in-github",
        "colab_type": "text"
      },
      "source": [
        "<a href=\"https://colab.research.google.com/github/SosaGabriel/DataScience/blob/main/Telecom_Data_Analysis_and_Predictions.ipynb\" target=\"_parent\"><img src=\"https://colab.research.google.com/assets/colab-badge.svg\" alt=\"Open In Colab\"/></a>"
      ]
    },
    {
      "cell_type": "markdown",
      "metadata": {
        "id": "h-aUvUsRV1zK"
      },
      "source": [
        "<p align=center>\r\n",
        "<img src=\"data:image/jpeg;base64,/9j/4AAQSkZJRgABAQAAAQABAAD/2wCEAAkGBxMTEhUREhMWFhUVFxUXFRcXGBUXFRgYFxUYFxUXGBYYHSggGBslHRYVITEiJSkrLi4uFx8zODMtNygtLisBCgoKDg0OGxAQGi8lICUtKystMC0tLS0wLS0tLS01LS0vLS0tLS0tLS0rLSswLy0tLS0tLS4tKy0vLS0tLy0rLf/AABEIALQBGAMBEQACEQEDEQH/xAAcAAEAAQUBAQAAAAAAAAAAAAAABQECAwQGBwj/xABAEAACAgECAwYDBgMGBQUBAAABAgADEQQhBRIxBhNBUWFxIoGRByMyQqGxFGLRUnKSwcLhM1OCsvAlc4OisxX/xAAaAQEAAwEBAQAAAAAAAAAAAAAAAQIEAwUG/8QANxEAAgECBAIJAwMDBAMAAAAAAAECAxEEEiExQVEFEyJhcZHB0fCBobEjMuEUQvE0UqLiFSRy/9oADAMBAAIRAxEAPwCR7BfbCr8un4kQjbBdSBhG/wDdUDFZ/mHw+fLAPXkcEAgggjII3BB6EGAXQBAEAQBAEAQBAEAQBAEAQBAEAQBAEAQBAEAQBAEAQCjCAapJkAZgDMAZgDMAZgDMA+PgJIOz7CdvtVw8hB97p870sfw+Zqb8h8cfhPkCcwD6B7M9ptNrqu9075x+NDtYh8nXw9+h8CYBMQBAEAQBAEAQBAEAQBAEAQBAEAQDnuD61zaQxJFhbYnoQWxjyGFI+k4Rm1O3M9PFUYqleK2t6e50M7nmCAIAgCAIAgCAYL18ZAMUAQBAEAQBAPkStZINquuASPC9XbRYt1DtXYvRl64PUHOxB22OQYB7V2K+0uvUctOr5artgG6VWH0z+BvQ7eR3xBJ6CDBBWAIAgCAIAgCAIAgCAIAgCAY77Qis56KCT7AZgtCLnJRXE5bhtuXSw7ZbJHuxB+WTMjdppns4iNoSguXsdbNZ4ggCAIAgCAIAgFCMwDWZcSAWwBAEAQBAPkqlZIN2pYBL8G4RZqLBVWMnqSfwqPEsfKVlNRV2WjFydkelcG7AaZR94DafFmyF9ggOPrmY5Yib20NMaUVvqdxoWFSrWuQqjC7k4Hlv4RTxDWki0qSa0JJNR85sUrq6MzgZRcJNyuVlwceckizK5ggZgFOcecE2ZQ2jzgnKyw3+ki5OQtNxi5ORFpsPnBOVFvMfOCbIcx84FkXCw+cEZUY9fh6nQkDKsM+A26nyEb6FqT6uop8mc5wbFjKikEkAtgjZQdyMdc+nmPWZpU3KVrbbnp4moopu++3edjNR4ogCAIAgCAIAgHO8H1jkanWWWOVSzUItQ5eRUoYpsMZLk1sck/mxAL9R2kr7uyzkc929FePgGWvSpkwzMFA++UEkjcH0yBbdxVk1DVunLWmm79mPKSCGIYbNvgDwHUdZAMVXaNTUbO6tDLZVUaj3fPzXd2a9+flwRah/Ftk+UAs0fait0ssauytaqu+PNyHKAurYCMdw1bjfGdsbGAXr2iU1LYtVjM1po7sGosLMFsc3PyYwM5DePvAJuAfJdMkG9TAO3+z3tVpKubT2HurGf/iN+CzGyrzfkxvsdjnY5OJmrwk9Ud6UorQ9dqTCgen7zGaEWtKs6ItS4r0P9JaFSUNg4KW5nTiA/MPmP6TRHFL+5HN4d8GbFWoVuh+XQ/rO8KsJbM4ypyjujLOhQQBAEAQBAEAQBAML3+UmxNjl/tCBs0bISQC6Zx6ZOD5jIG3pNOFX6hSpscRo9ZzarhoGV/h+5pyDu33m59MhiMTbKlaE23vdnJbntn8QJ5RawGoECxlBggrAKMwAyTgesAKwO4OR6QCsAQCIo4EFa8C1+6v5y1WFwr2Ac7K2OYZ3OM4yxgGDS9nOSi6nvmZrivO7JWdlrSoLyY5SOSsD3JMA2DwGs7FmKnTjTEE5JTzLdebeAaGn7OhEKNY7MbqbmchQSaO7CDAGAOWlAfmZALauzVYSyssxWylqW6A8rWWuSD5/ekfIQDPTwfC1hrGY13d9nCqCeVl5eVRhVw3h5esAlIB5F2l+yIrmzQPkde4tO/slp6+z/wCKLl3Hked63S20M1d1bV2KMlWGD6EeY9RtJKELw/QW3uKqUZ3Y4AA8/M9B84B9IdieAXaLRV0XWmxhk+lYPStT15R6/oNhkxEP7kaaTezJhpjNSMLSrLoxNILoxNKl0ZK9Y69G28jvOka9SOzKyowlujf0PEg+xwD4EdD/AEmyjilN2loZa2GcNUb81GUQBAKO4AJJwACST0AHUw3bVkpNuyMS3E/hQ482+H9PxD5gSuZvZF3BLd+Wv8fcyrnx/SWKMpcwCkscAAknyEhtRV2TGLk0luaeidbV50bI6dCD9JWlWhUV4MvVpSpSyyQ1vC0tQ12bqfl06EEHYztGbi7o5PUh9J2K09VgtAZ2U5XmbYHwOABk++Z2liqko5SqgkT1J8DOBMlxM6qT0knM26kwJBBfAOU+1If+l6j/AOL/APeuAa3YJKxdrbNMOXRM1XcbFa+ZUIvKK2CBzYGem3pAJPgPapNTYEFVlYsrNtDPy4trVuUsACSu5Bw2Dg5gGv2X41bY2uOoDKlNzcpY14RQgJr+Dc8uObJz+MbnBAA2+z/aZdS/IabKmNa3Vh+Q95U5IVxyk43xkHfcQDV0vbJXtSvuLVR77NOLSa+TvK+bbAbmweXrjx98AXU8VvPFbNMVbuRp0Yb18uSx+92PNg/gx5qTjG5ApwfWUV0au0G0JTqNQbDY3OcpgvyeS+SwC/gPHhqGatqrKXVUsC2cpLV2Z5HBUny3HUSAanD+1q22VJ3Fqrc9taWEpyF6ubmXAbPReuPH0OAOjgFJB2NHjPBqNUnd6ipbF8M7MufFWG6n1Bkhq5g4F2d02kXlorCnxYks592bf5DaCEkiVkFiM43elFL3tnlQDYbkkkKAM+JJEx16UYxczXhIzr1VSjuznU7XaU9XZfQo5/7QRMHWxPVfReJXBP6r1sSldwdQ6nKsAQfMEZEte6uY5QcZOMt0WtIJRF8S4zXRYldvwiwHlf8AKCCAQ3l1G/TfwkGujhp1YOUNbcCmvpswWpbB6ldiG9Rno37znJPgWoTpt5aquufL+Pwb/Au1qtirUYrcbc3RCfIj8h/T26Tfh8apdmpo/t/BnxnREofqUO1Hlx/n8nUz0DxBANa3435Pyrhm9T1RfbbmPso85R9p24I6x7Mc3F6L1fp59xsy5yEAi+016rp3Vs/GOQYODk+OfTrOGIqRhHtK/d4amvBU5TqrLw1NPsgpWvuwSyjfmIA38enWY8HiKs6jWRKPdz9Tv0hHtXb19DFxvjWqp1emrqoW7T3HksK57yt8/iLZ5VUDfcb4IyDjPoKonKyMSp9ltnTS5yK1ncSSHsbck5CAIBzn2h6Ky7h99VKF7G7vlVepxchOPkCflALOB8Psqt1umKkUWN3tD/lHfL96nph9wP5oBD9huDvXZUH0j1tRS6W22WWMpcsoAoXvCvIQCxwoxsIBKcM4VYU4lWylO/uu7snoVelEDD0zn6QDS7DcMZLFZtJZSa9OtVj22OzNZzDmWsGxl7v4c5AHUYgGDR8IvA0+amHLxO+1um1bd7yufQ8w+sAn6tI//wDTe7lPdnSVoH8OYXOSvvggwCLp4Jc+i4jQVKvdfqmr5tuYNgoc+Rx1gFezVFz6ltVbQ9KjT06cLZy8zMrFnYAE/CNgD4wCO4Vwm9Roeaph3er1bv8Ayo/fcjH0PMv1kA7eAUkHYQBAEA5X7TLwmiOejW1L+pb/AEzPi4uVJpHrdCr/ANtPuf4PMlE8M+xO67H6tTQKubLoW28eUuWB9QM4+U0Qkmj53pKjKNZzto7edibYSzMCZy/bnhVl1SPVWXNTEty7kKw3OOp3VeklQlJOyPT6NxFOlUcZytm2vzIDsx2oNIFduWrH4CNynpjxX08JyzHoY3o/re1DR8e/+SX4nxSvVuO4Us/5jggkex8PU9JElKpK0VdnDD0pYOm3WlaPj88kdJ2ae+gctjBk8E6lfZvD23HtPUwlGrTVpvTly+vofPdJYzDVp3pR14va/wBPXRnU16hWGRk+gG/z8vnNb0PPjqW1o3OXICgry4zknBypPgMZbpnPN6SqTzXLtrLl31+enIzyxzEA0uI8KrvKG0EislgucKSRj4sdR6Srgm7vk1529jtSrzpp5NLmxZV8ICYHL+EdF8sYHhiRKO1uBWMte1xIG5GXUKLLMgujbbKD+Xb3wMyibz2PSi4yoNwjwa7+86OdjyS6sbiSQ9jbknIQBAEAQBAEAQBAEAQCy0bGAa0gCAUkHYQBAEA5H7U9E1mgYrv3TpYwH9kZVj8ubPsDOVb9tz1uhqsYYpJ8U19TyTRa0rs24/Uf1nlVaabuj7KxNaa3o6NuNwQcEfPwmV3TKSimrSWh3PZ3tauQmpAB2AtAHt8YHT3G3tN+HxcU7VF9fc+dx3REtZUHdf7fb2/J2qEEAjGDuCOh9RieqrcD51pp2ZynarsPVqc21YquO5IHwOf51HQ/zDfzzMtfCxqarRnr4Dpeph7Qn2o/deHt+DjezPC7dPqnS5CjKm3kQWG6sNmG3hOOEpShUebkbunMVTr4SDpu6cvR78j0XhFAtJB2xj5z0j5Mm+4VBhR8/GQy8Ny2QXEAwfxlecc6k+QIJ+g3lc8eZ06qe9mXC/PRWP8A0lf+/EZuS+fUjJbdrzv+LmRM+PX9B6SyKu3A8z7Xd8/EDp1dwth0+ApOQrBVZtugBVjNuGjTUZTklcSqVFFRi3bU9OMxEGahfGSiknwM0koIAgCAIAgCAIAgCAIBR+hgGpIBRmxuYAkHYQBAEAMARg7g7EHoYJPL+1v2eMpa7RjmTqafzL592fzD+Xr5ZmGth3vDyPqOj+moySp4jR/7uH15eJw9FrIdtvAg+ngRPNl3n0Vk0d32e4UltaWuSeYZCdB8z1P6Tdh8DGUVObv3HyvSfS9SlVlRpK1tL7+S2/J23DfuwERfhH5VHTzwBPSUVFWS0PnXUnOWaTu3zJZWBwQRv03B/aLlrPiY9Tp1ccrjI/Uex8JJDVzDw3SdyX3yDy489s5z9RFymQ3H36yHqXirbGE1EfhbHow5h+4P6ytnwZdSXFeWn8fYs/g1O7gOfNgCB/dXov7+ZMZE99S3WyWkdPD15mwBjYSxzEEFruB1kkkHr+L0rqUqJJsbkAVQWIHNkFyBhB74medJyqJ+B1jUUY24k3XbnwPrNFji9DeQ7dMSTiXQBAEAQBAEAQBAEAQBALLTsYBqWOAMmQDSttLf0lQb0k7CAIAgCAIBznajsdTq8uPu7v8AmKPxejr+b36+vhM9bDxqa7M9TA9KVcL2d48vbl+CL0XDrNPXXVYN1UDI3UkDflPjO1OOWCXI8/GVVWxE6i2k20dpobAK1x4qpPrt1nQy24GO/SIxJwAx35hswPgQfP8AfxnOUIs1Qqyikr6cuBdpbSy77MNmHkw6/I9R6ERF3WpE4qL024eHz7mUiWKmDSP+Jf7DYGeuMAjP1OD5AeOZWD3XIvUWz5r589DPLHM8g+03t7xLQa7uqxUtBVWq5k5u8GMNzNkEENnZcYGPPMJp6FJNo9L7LcYGs0lGqC8veoGK5zynJDDPiMg7yS6dyUkAoyg9RJJMbUDw284uDeoTAknKTuy9icHHXwzsPrBU5zsjx/Ualr01Ol/h2qKFeWwWo6vz4IYAbjkOQQPxLsMznTqKaujrVpOm7M6SdDkIAgCAIAgCAIAgCAa2tuCj/KQ2CLdyTkyoKQCRknYQCN4hxMo4RVBxgt57+A9cbznOeU2UcMqkMzduRI1uGAYHIIBB9D0nRO6ujLKLi7MrBUQBALbagw5WGRAsYdIoXmQdFIA9iAcfLP0xKx4ovJbPn8+d9zYlihjNW5YHBOMjbBx0J9f9pFtbovm0szJJKGK7TqxzuGHRlOG9s+I9DkSrinqXjNx04cvn+SlZYEKxDA5w2MHbwI6E9TkY6dIV07Ml5WrrT589yB7dcJq1Wnai4PytghlwCCCCCCfHIHhONTSaaO1Cl1qcb6fc2+yr1ihaKk5FoVEUZ5vhwQpzjr8Jz/vNCdxicL1Ftbp+hMwZQTjcyUrgKc9Iaa0ZCkmro3ZJyI7imoNfx5OORlCgdXJXlP7zJisT1Ktbe9vHgvrf7HajS6x2+WIvg+sK3isZ5LMkAg9eXIO+42GJ5vR9eqqvVTfNcN13rwN1enGpQ6zireXz6nSz3TyxAEAQBAEAQBAEAsusCjMAh7bCxJMoCyAIBIyTsIBzvEF+/sz/ACY/wgf+e04VD1qD/Rjbv/JJ8Fb4GX+yxx7MA37sZNB3jbvMeLXbT5r+PQ352MogCAW2vyqWPQAn6DMN2Vy0VmaRZpEwgz1Iy3qx3Y/UmVgrImo7ydviMssUEAQBAB/aCSI4/rA6KF6Dc7ePT+v1medRSaSN+CouEm5Gr2VQ5sbO2QCPPAOP3M6xvfuOvSUl2UdDLnlCAQvCNMxUYsZcZ8iAQTnY+vkZ6mInFO7jczxorq4uLs7EnTxQKeS34T4HqD7ef/mZldHOs1PUtxs9H82JC8/CTjOASPcDaZnBT7LIcnFNo4Xsfxk6nWsFqYClCXckFAW2VQeuThvDopnCHQksDPM5qS2Wmvj3eZ2h0jHEUMqi09L8jvpoOQgCAIAgCAIAgFGbAyYBF6q3Pz/aVYNaQBAEAkZJ2KwDm9ZeLLHI8CFHqB/vzfUTjU1PWpQdOEb8dfn0sSPBj/xB45U/IrgH6q30lcPxXeZcX/a/nzUkpoMYgCAYNeM1uP7Slf8AF8P+crU1i0dKTtNPlr5GwZY5lIAgCAIBZccKfY/tKzdotloK8kcF2o7V6XTOaLWYOgXmAUndlD9en5hMaVp28D2qNKfVqtbR3t9Hb0LPsw7UrrL9SiVsqItRBbGWJZx+EdOnnNsdjDja/WSUctrc+89DkmEQCOZhWbceILr7jdx+5+vlNMpZ6S7tPYUV+qoPZvT2NGrVd86Jj82T/hP9ZOGeVSl3W+53x1JU3Bcbt+SfqdRbcFBJOMDJ9pwSbdkYnors847F6bUU3DVoObT6p7FsryFNYBJquUHZhkMmBg4YHcdN3SeJpU4qE75k4pW1u3uvW75PiZMDTco5ls7s9FruycYmA2GaCBAEAQBAEAQDU1dm/L5dZDBHWneVBbAEAQCRknYx6piEcjqFYj3AOIL00nNJ80clw/Zc+f6EH+hH1nCex7lfWVia4btYo/kfPyZP6/rOVC/WPwPPxGsH4r1JebDAIAgGLU7gDzZf/qwY/oDKy5F4aNvuf4OT+1LtbZw7SrbSitZZYK1L5KL8LMWIGOY4XAGR1z4YNznJ2N7sBxLV6jRrdrq1rtLNhQrIeQbAujfhbOdvLB8ZCaexNmtzo4AgCAW2JkYlJwcrLgWi7anhHb7QPqOLW0p+JmGPZagx/RTMju6svnA+qpyjDAUm9v8AsTH2BJ97r28hph9Tef8ATNVL9iPA6R/1Mj2GdDEIBqavSc4IPQ/US8JuLug0mtS7QcNVBlFAPQnOT9TLyqymrPbyOTilK+75t3f3N67S83XxxmcKlONSOWauiVJrYoulxgDoJaKUUkuBFzYAx0kkFYAgCAIAgCAWu2ATAI4nxlQakgCAIAgE33Y8pcnMyjVr4jbxixOZnCLq6a2s5ba2rrb8QZWVdsjJB6gHp5icalOcXaz12PcjVjXgp38TqOA6YFO9yG5x8PKQwC+4OCSeuPIDwilRcL5tzzMTXU3aOy+5JmkTtYzZmWmj1kWJzljVGLEqSMfLv6yC9yF41RVfmq+tXRWVlVwCOZd1YfPPy285830hj8TSxDjB9lcLb+v3NUKCcU9zb0evTPd5wcZHqPE++Zv6Px/WwyzVmvJkVcPO2fgbNdpY/D+EdSep9p6UZ5ndbHGUVFa7izWVqQrOoJPKAWAJOM4A88A/SQ69JNpyV1vqQqc2rpOxmBz0l4TjNZou67ijTRWSDy3XJ3faWpj0fB/xaZq/3BmVK1f5yPelPN0Wlyuv+VzV+xRVq1PE6x0V6FHsragTRTWljysXJyq5nyR6x3y+cuZy1tSoVmYhVUZZmICgDqSTsBAMfD+I03p3lFtdqZI5q2V1yOoyp6yCCQ056yUUmZpJQQDE+oUMEJ+Js4HtOUq0IzUG9XsXVOTi5LZGWdSggCAIAgCAYdWfhkMGiZANWQBAEAQCcdwOsuDjftPdn0RRGK8zoG8mXDEqceBwPpNOFXbDOE7O3LVw7iFNjKtlgXu1JGWwPCaakZupF22IJv7FbGD6mst8OKmC52DZcEj1IAz7CUxkXaLfeEeqTASIAgFGUHrBKdjge2vFFp1ATp8CnPmST/liebjMBKtJTSPc6MlCVNpvW+3Il+yeoF2nD7H4nXP/AFZx+s74fD9XSUJLa/5MuN7NZ5e78EjxPVGqprAuSo2AGepABx5DOflO1RuMG4rU4UKaqVFGTsmeeau1iGuFtnMh5V5BWzczkAkhlPXI38s+c+co4edWt1clvf8Ad3a9x9HUyRioZVb6/Rbne8BtBpUc2XwC/hlj+LA8s9PSe5hYU6UFSjueBjIyVRtqy4eBt3WEbCazMePdrOMLbxjS2aN6b3UIABYAhcNZ8DOM4OMfUTPKL65M9alVh/4+Ubq93p5E39mHANVRfrrtVT3RvesovOjjrazYZCdhzqN8TvFWR5tSeeV+5I9FSjzk3OdzDxXQ1XUWUWgGuxGVwdtiNznwx1z4YlJysiG0leWy3OG+zPssOHajVjvg9dxqFPixCc5zYQAA3x4GPWZ/62jnVNvtMywxNFzyxlfw28z0vT+M1o7zM8koIBB8YOLVI6hR8t2I/wA/pPC6VllqRkt1b8noYbWm13+xOT3TzxAEAQBAEA1tadh7yGDUkAwWrvIBZAEAQCStzk5nQk5vtzSzaU8oJ5XVjjwABBP6iaMM0p6kPY8s1M9RFDrvsm07c2os5TyEVqG8CwLEgeeNs+4mPHNWii8T0hXI6GeeSZa7/OQLGxBAgHkH2uh/4utUBPOg2HiBz5+mCflPcwDXUa8/Y8ytH9dtb2XqSn2HuX0NwJ/BqXC+xrqb9yZj6TilVVuXuehQm3HV3Ot4rxhaCFwWc9FHp6zxMVilQje12ephsJKvezskcYrNh3ZiKyhAXYMrKX5+YY2JBXz6Tx8Ni505xjBX147a2tY9tpPb4u42OyvEibmXmyOb4BtsBSCR678x+c0RjOeLhOe6v+H6HHHUEqOdfNTuCvMBnrPaPAIk9mtN3ov/AIajvQeYWd2gfPnzYzmBoTFaYgF0gg0eK6bmUsWICgnA8cDMzYmh1sbN28DHj6eelduyjdtc9OJD8IrDWKD7/TcTxFSVTGwT735I8fomKlJJnXUDb3n0qPoJPUyySogHNawEaizPiVx/d5RjHzyJ830jGXWyXO3lbh9dD1abToRt3+dzoaAQqg9cD9p9BSUlCKlvZXPMn+52Mk6FRAEAQBANLVvk48pVgwQCjDMA12XEgFIAgE46A9ZcGE6fyME3I67gFDHmbT1E+fIhP7Toqs1omxobKoFAUDAGwAGAPYeEoSVgCAZqbcbHpIIK3WEHbpAOE7T8rcTqsYbVaW+zHhkVWj/XPTo3/pbLjJL8GGX+pf8A8+5X7DtNy8NLf8y+1v8ADy1/6JTpOV69uSRooLsIle1XDbXsrtrAYVliy5w24YAjz2Y+s8HG4aVWKcd/Q9no/E06alCppfZkJwfsxZZp2rt+4LA8qjDFOYYPMOmem2ZeODUK7qSebVPxszVW6Qgn+muGv8HScC7OUaVcVglj+J2OXb3Ph7DAmqVnJyta551XEVKv7noS8g4CAa/EdUaq2sFb2cozyIAXPsCd50pwzyUbpeJSpPJFytfwPONf2vv1BwD3Sf2UPxH+8/U/LE9ulgadPV6vv9j5rF9IVqmieVd3v/g3NDx21KXrJ5lKkAN1XIwMHy9P2kVMDTryttfexjoY+tFOg9YyTWu6vyfp+CX7L6jvLlBG+M/oZ5VfoPD0H1yu5La728rfc9DALJUil80O5AnA94QDFZbjbxgHzp2h7XX1NxBX1F5ue+o6d1bApWm2wuq7/ACCgwo35d5ljKM5Xa1WzPZxOA/p4JqXZau/I994Nri+nosbdnqqZjsMlkBJ29TNR45IVWZggvgCAIBjvt5R6+Ehg0CZAKQBAKMuYBgdMSAWwCelwIAgFliAwDCunOd+kE3MhoEC5iagj1ki5SsHoRtAOO7admdRZY2ppv5OXT2J3a0iyy3IbmRWZwq8wKr+HI33neniHGKhwumcZUU5OfG1iz7LKb69Gunu01tLVs5y/Jh+8td/hCsWGAVzkD0zJxVVVarnHbT8HSEcsUmd13OQM9ZmLB6R4QSpWMBGJU6FIAgFHJwcSSTzTthwjUHV99XWWqdV5uUZPOM5JA3ydt9xPZwWIpqnkk9e/keJ0phXJ54xv4ext6PgFncXW2KQFqYjIKjmGDsDuTgHrtvOyxMethGL4nk4PC1G51JwslF2vvfw8Lk12YoC20MPz0kn+8GsB/y+k5YybcKifCXsepQilUptcU/U7SeMesIBhtqyciAchxP7MOH6i03W1NliWZVsdVYnqSAcjPoRKKnFO6RqqYytUgoSd0tDrK9GFAVcBVAAAGwAGAB5DE6XM1zOi4GBIILoAgGC3UgdN/2kXBpsxO5kApAEAQBAEAxNV5SATMuBAEAQBAEAQBAKMM9YBRUA6CAXQBAKEQCw0iRYtmZTuB6xYZ2VFIiwzMtepRvy/SSRdkT2m4mlWmsZw3KVZfhR7D8SkD4a1JA9ek6UpZakZPg0UqRzRa7jm+yF2osNFq11nTAWKtnO62jBfm5qWrGfvAVGG6HPpNeKxEZymo6pta+CMlDDSShKWlr6eNzvKAcbzAbTJAEAQBAMb3qPH6SLgwvq/IfWLgwPYT1MgFkAQBAEAQBAEAQCUlgIAgCAIAgCAIAgCAIAgCAIAgCAIBY1YPhAKrWBALoAgFCcQDXs1Xl9ZFwa72E9TIBZAEAQBAEAQBAEAQBAEAlJYCAIAgCAIAgCAIAgCAIAgCAIAgCAIAgCAIBH3WEneVBjgCAIAgCAIAgCAIAgCAIAgH//2Q== \" width=\"60%\"></p>"
      ]
    },
    {
      "cell_type": "markdown",
      "metadata": {
        "id": "9ZzHE1tYKAxu"
      },
      "source": [
        "Cualquier empresa quiere maximizar el número de clientes. Para lograr este objetivo, es importante no solo tratar de atraer nuevos, sino también retener los existentes. **Retener a un cliente le costará a la empresa menos que atraer uno nuevo**. Además, un nuevo cliente puede estar débilmente interesado en los servicios empresariales y será difícil trabajar con él, mientras que los antiguos clientes ya tienen los datos necesarios sobre la interacción con el servicio.\r\n",
        "\r\n",
        "En consecuencia, **prediciendo la deserción, podemos reaccionar a tiempo** y tratar de retener al cliente que quiere irse. En base a los datos sobre los servicios que utiliza el cliente, podemos hacerle una oferta especial, intentando cambiar su decisión de dejar el operador. Esto hará que la tarea de retención sea más fácil de implementar que la tarea de atraer nuevos usuarios, de los que aún no sabemos nada.\r\n",
        "\r\n",
        "Se le proporciona un conjunto de datos de una empresa de telecomunicaciones. Los datos contienen información sobre casi seis mil usuarios, sus características demográficas, los servicios que utilizan, la duración del uso de los servicios del operador, el método de pago y el monto del pago.\r\n",
        "\r\n",
        "La tarea consiste en analizar los datos y predecir la rotación de usuarios (para identificar a las personas que renovarán y no renovarán su contrato). El trabajo debe incluir los siguientes elementos obligatorios:\r\n",
        "\r\n",
        "Descripción de los datos (con el cálculo de estadísticas básicas);\r\n",
        "Investigación de dependencias y formulación de hipótesis;\r\n",
        "Construir modelos para predecir el flujo de salida (con justificación para la elección de un modelo en particular) basados ​​en hipótesis probadas y relaciones identificadas;\r\n",
        "Comparación de la calidad de los modelos obtenidos. \r\n"
      ]
    },
    {
      "cell_type": "markdown",
      "metadata": {
        "id": "fr8Hfhp0FUa6"
      },
      "source": [
        "Acerca de este archivo  \r\n",
        "ID de cliente - ID de cliente  \r\n",
        "sexo - sexo del cliente (hombre / mujer)  \r\n",
        "SeniorCitizen - es el cliente jubilado (1, 0)  \r\n",
        "Socio - es el cliente casado (Sí, No)  \r\n",
        "tenencia - cuántos meses ha sido cliente de la empresa  \r\n",
        "PhoneService - ¿Está conectado el servicio telefónico (Sí, No)?  \r\n",
        "Varias líneas - ¿Hay varias líneas telefónicas conectadas (Sí, No, Sin servicio telefónico)?  \r\n",
        "InternetService - el proveedor de servicios de Internet del cliente (DSL, fibra óptica, No)  \r\n",
        "OnlineSecurity - es el servicio de seguridad en línea conectado ( Sí, No, Sin servicio de Internet)  \r\n",
        "Copia de seguridad en línea: si el servicio de respaldo en línea está activado (Sí, No, Sin servicio de Internet)  \r\n",
        "Protección del dispositivo: ¿el cliente tiene seguro de equipo (Sí, No, Sin servicio de Internet)  \r\n",
        "TechSupport: ¿está conectado el servicio de soporte técnico (Sí, No, No hay servicio de Internet)?  \r\n",
        "StreamingTV: está conectado el servicio de transmisión de TV (Sí, No, No hay servicio de Internet)  \r\n",
        "StreamingMovies: está el servicio de transmisión de cine activado (Sí, No, No hay servicio de Internet )\r\n",
        "Contrato: tipo de contrato con el cliente (mes a mes, un año, dos años)  \r\n",
        "Facturación\r\n",
        "electrónica : si el cliente utiliza facturación electrónica (Sí, No)  \r\n",
        "Método de pago: método de pago (cheque electrónico, cheque enviado por correo, transferencia bancaria (automática), Tarjeta de crédito (automática))  \r\n",
        "MonthlyCharges: pago mensual actual  \r\n",
        "TotalCharges: el monto total que el cliente pagó por los servicios durante todo el tiempo  \r\n",
        "Churn: si hubo un churn (Sí o No)   \r\n",
        "https://stackoverflow.com/questions/38015181/accuracy-score-valueerror-cant-handle-mix-of-binary-and-continuous-target "
      ]
    },
    {
      "cell_type": "code",
      "metadata": {
        "id": "uGL3q4Iy3hin"
      },
      "source": [
        "import pandas as pd\r\n",
        "import numpy as np\r\n",
        "import matplotlib.pyplot as plt\r\n",
        "import seaborn as sns"
      ],
      "execution_count": null,
      "outputs": []
    },
    {
      "cell_type": "code",
      "metadata": {
        "id": "vp69iOMcFgRc",
        "colab": {
          "resources": {
            "http://localhost:8080/nbextensions/google.colab/files.js": {
              "data": "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",
              "ok": true,
              "headers": [
                [
                  "content-type",
                  "application/javascript"
                ]
              ],
              "status": 200,
              "status_text": ""
            }
          },
          "base_uri": "https://localhost:8080/",
          "height": 73
        },
        "outputId": "6cb58e64-411c-4dcc-e769-90c2362c683f"
      },
      "source": [
        "from google.colab import files\r\n",
        "uploaded = files.upload()"
      ],
      "execution_count": null,
      "outputs": [
        {
          "output_type": "display_data",
          "data": {
            "text/html": [
              "\n",
              "     <input type=\"file\" id=\"files-c9648523-f4fb-4e29-9910-8cb8ca5d2976\" name=\"files[]\" multiple disabled\n",
              "        style=\"border:none\" />\n",
              "     <output id=\"result-c9648523-f4fb-4e29-9910-8cb8ca5d2976\">\n",
              "      Upload widget is only available when the cell has been executed in the\n",
              "      current browser session. Please rerun this cell to enable.\n",
              "      </output>\n",
              "      <script src=\"/nbextensions/google.colab/files.js\"></script> "
            ],
            "text/plain": [
              "<IPython.core.display.HTML object>"
            ]
          },
          "metadata": {
            "tags": []
          }
        },
        {
          "output_type": "stream",
          "text": [
            "Saving telecom_users.csv to telecom_users.csv\n"
          ],
          "name": "stdout"
        }
      ]
    },
    {
      "cell_type": "code",
      "metadata": {
        "id": "-26h49TMGw3v"
      },
      "source": [
        "data = pd.read_csv('/content/telecom_users.csv')"
      ],
      "execution_count": null,
      "outputs": []
    },
    {
      "cell_type": "code",
      "metadata": {
        "colab": {
          "base_uri": "https://localhost:8080/"
        },
        "id": "CboC-GeIIjuh",
        "outputId": "b07f5aaf-d87a-4bc2-f9bd-5f36b39e2350"
      },
      "source": [
        "print(\"Data: \\t\\nVarialbes: \\t{}\\nEntradas:\\t{}\".format(data.shape[1],data.shape[0]))"
      ],
      "execution_count": null,
      "outputs": [
        {
          "output_type": "stream",
          "text": [
            "Data: \t\n",
            "Varialbes: \t22\n",
            "Entradas:\t5986\n"
          ],
          "name": "stdout"
        }
      ]
    },
    {
      "cell_type": "code",
      "metadata": {
        "colab": {
          "base_uri": "https://localhost:8080/"
        },
        "id": "9ktCCRydIwHP",
        "outputId": "e81597a1-5b59-4975-c76c-12153a5bc02c"
      },
      "source": [
        "data.info()"
      ],
      "execution_count": null,
      "outputs": [
        {
          "output_type": "stream",
          "text": [
            "<class 'pandas.core.frame.DataFrame'>\n",
            "RangeIndex: 5986 entries, 0 to 5985\n",
            "Data columns (total 22 columns):\n",
            " #   Column            Non-Null Count  Dtype  \n",
            "---  ------            --------------  -----  \n",
            " 0   Unnamed: 0        5986 non-null   int64  \n",
            " 1   customerID        5986 non-null   object \n",
            " 2   gender            5986 non-null   object \n",
            " 3   SeniorCitizen     5986 non-null   int64  \n",
            " 4   Partner           5986 non-null   object \n",
            " 5   Dependents        5986 non-null   object \n",
            " 6   tenure            5986 non-null   int64  \n",
            " 7   PhoneService      5986 non-null   object \n",
            " 8   MultipleLines     5986 non-null   object \n",
            " 9   InternetService   5986 non-null   object \n",
            " 10  OnlineSecurity    5986 non-null   object \n",
            " 11  OnlineBackup      5986 non-null   object \n",
            " 12  DeviceProtection  5986 non-null   object \n",
            " 13  TechSupport       5986 non-null   object \n",
            " 14  StreamingTV       5986 non-null   object \n",
            " 15  StreamingMovies   5986 non-null   object \n",
            " 16  Contract          5986 non-null   object \n",
            " 17  PaperlessBilling  5986 non-null   object \n",
            " 18  PaymentMethod     5986 non-null   object \n",
            " 19  MonthlyCharges    5986 non-null   float64\n",
            " 20  TotalCharges      5986 non-null   object \n",
            " 21  Churn             5986 non-null   object \n",
            "dtypes: float64(1), int64(3), object(18)\n",
            "memory usage: 1.0+ MB\n",
            " \n"
          ],
          "name": "stdout"
        }
      ]
    },
    {
      "cell_type": "code",
      "metadata": {
        "colab": {
          "base_uri": "https://localhost:8080/"
        },
        "id": "KiFLadGeIxS9",
        "outputId": "adce4893-3f00-457b-9496-2824127213e9"
      },
      "source": [
        "print(\"Variables Numéricas:\")\r\n",
        "for i in data.select_dtypes(exclude = ['object']):\r\n",
        "    print(\"\\t\\t\"+i)\r\n",
        "    \r\n",
        "\r\n",
        "print(\"Variables con Texto:\")\r\n",
        "for i in data.select_dtypes(include = ['object']):\r\n",
        "    print(\"\\t\\t\"+i)\r\n",
        "    \r\n",
        "\r\n",
        "print(\"Variables con Nulos\")\r\n",
        "missing_val_count = (data.isnull().sum())\r\n",
        "print(missing_val_count[missing_val_count > 0])"
      ],
      "execution_count": null,
      "outputs": [
        {
          "output_type": "stream",
          "text": [
            "Variables Numéricas:\n",
            "\t\tUnnamed: 0\n",
            "\t\tSeniorCitizen\n",
            "\t\ttenure\n",
            "\t\tMonthlyCharges\n",
            "Variables con Texto:\n",
            "\t\tcustomerID\n",
            "\t\tgender\n",
            "\t\tPartner\n",
            "\t\tDependents\n",
            "\t\tPhoneService\n",
            "\t\tMultipleLines\n",
            "\t\tInternetService\n",
            "\t\tOnlineSecurity\n",
            "\t\tOnlineBackup\n",
            "\t\tDeviceProtection\n",
            "\t\tTechSupport\n",
            "\t\tStreamingTV\n",
            "\t\tStreamingMovies\n",
            "\t\tContract\n",
            "\t\tPaperlessBilling\n",
            "\t\tPaymentMethod\n",
            "\t\tTotalCharges\n",
            "\t\tChurn\n",
            "Variables con Nulos\n",
            "Series([], dtype: int64)\n"
          ],
          "name": "stdout"
        }
      ]
    },
    {
      "cell_type": "code",
      "metadata": {
        "colab": {
          "base_uri": "https://localhost:8080/"
        },
        "id": "SHdqQRpwTbec",
        "outputId": "2eb2479b-796d-462b-ff60-4213da2df179"
      },
      "source": [
        "categorical_columns = [cname for cname in data.columns if data[cname].dtype == \"object\"]\r\n",
        "categorical_columns"
      ],
      "execution_count": null,
      "outputs": [
        {
          "output_type": "execute_result",
          "data": {
            "text/plain": [
              "['customerID',\n",
              " 'gender',\n",
              " 'Partner',\n",
              " 'Dependents',\n",
              " 'PhoneService',\n",
              " 'MultipleLines',\n",
              " 'InternetService',\n",
              " 'OnlineSecurity',\n",
              " 'OnlineBackup',\n",
              " 'DeviceProtection',\n",
              " 'TechSupport',\n",
              " 'StreamingTV',\n",
              " 'StreamingMovies',\n",
              " 'Contract',\n",
              " 'PaperlessBilling',\n",
              " 'PaymentMethod',\n",
              " 'TotalCharges',\n",
              " 'Churn']"
            ]
          },
          "metadata": {
            "tags": []
          },
          "execution_count": 13
        }
      ]
    },
    {
      "cell_type": "code",
      "metadata": {
        "colab": {
          "base_uri": "https://localhost:8080/",
          "height": 322
        },
        "id": "Lpu6K6qEJ1kd",
        "outputId": "c36c9893-128b-4879-8897-b2512775da11"
      },
      "source": [
        "data.head()"
      ],
      "execution_count": null,
      "outputs": [
        {
          "output_type": "execute_result",
          "data": {
            "text/html": [
              "<div>\n",
              "<style scoped>\n",
              "    .dataframe tbody tr th:only-of-type {\n",
              "        vertical-align: middle;\n",
              "    }\n",
              "\n",
              "    .dataframe tbody tr th {\n",
              "        vertical-align: top;\n",
              "    }\n",
              "\n",
              "    .dataframe thead th {\n",
              "        text-align: right;\n",
              "    }\n",
              "</style>\n",
              "<table border=\"1\" class=\"dataframe\">\n",
              "  <thead>\n",
              "    <tr style=\"text-align: right;\">\n",
              "      <th></th>\n",
              "      <th>Unnamed: 0</th>\n",
              "      <th>customerID</th>\n",
              "      <th>gender</th>\n",
              "      <th>SeniorCitizen</th>\n",
              "      <th>Partner</th>\n",
              "      <th>Dependents</th>\n",
              "      <th>tenure</th>\n",
              "      <th>PhoneService</th>\n",
              "      <th>MultipleLines</th>\n",
              "      <th>InternetService</th>\n",
              "      <th>OnlineSecurity</th>\n",
              "      <th>OnlineBackup</th>\n",
              "      <th>DeviceProtection</th>\n",
              "      <th>TechSupport</th>\n",
              "      <th>StreamingTV</th>\n",
              "      <th>StreamingMovies</th>\n",
              "      <th>Contract</th>\n",
              "      <th>PaperlessBilling</th>\n",
              "      <th>PaymentMethod</th>\n",
              "      <th>MonthlyCharges</th>\n",
              "      <th>TotalCharges</th>\n",
              "      <th>Churn</th>\n",
              "    </tr>\n",
              "  </thead>\n",
              "  <tbody>\n",
              "    <tr>\n",
              "      <th>0</th>\n",
              "      <td>1869</td>\n",
              "      <td>7010-BRBUU</td>\n",
              "      <td>Male</td>\n",
              "      <td>0</td>\n",
              "      <td>Yes</td>\n",
              "      <td>Yes</td>\n",
              "      <td>72</td>\n",
              "      <td>Yes</td>\n",
              "      <td>Yes</td>\n",
              "      <td>No</td>\n",
              "      <td>No internet service</td>\n",
              "      <td>No internet service</td>\n",
              "      <td>No internet service</td>\n",
              "      <td>No internet service</td>\n",
              "      <td>No internet service</td>\n",
              "      <td>No internet service</td>\n",
              "      <td>Two year</td>\n",
              "      <td>No</td>\n",
              "      <td>Credit card (automatic)</td>\n",
              "      <td>24.10</td>\n",
              "      <td>1734.65</td>\n",
              "      <td>No</td>\n",
              "    </tr>\n",
              "    <tr>\n",
              "      <th>1</th>\n",
              "      <td>4528</td>\n",
              "      <td>9688-YGXVR</td>\n",
              "      <td>Female</td>\n",
              "      <td>0</td>\n",
              "      <td>No</td>\n",
              "      <td>No</td>\n",
              "      <td>44</td>\n",
              "      <td>Yes</td>\n",
              "      <td>No</td>\n",
              "      <td>Fiber optic</td>\n",
              "      <td>No</td>\n",
              "      <td>Yes</td>\n",
              "      <td>Yes</td>\n",
              "      <td>No</td>\n",
              "      <td>Yes</td>\n",
              "      <td>No</td>\n",
              "      <td>Month-to-month</td>\n",
              "      <td>Yes</td>\n",
              "      <td>Credit card (automatic)</td>\n",
              "      <td>88.15</td>\n",
              "      <td>3973.2</td>\n",
              "      <td>No</td>\n",
              "    </tr>\n",
              "    <tr>\n",
              "      <th>2</th>\n",
              "      <td>6344</td>\n",
              "      <td>9286-DOJGF</td>\n",
              "      <td>Female</td>\n",
              "      <td>1</td>\n",
              "      <td>Yes</td>\n",
              "      <td>No</td>\n",
              "      <td>38</td>\n",
              "      <td>Yes</td>\n",
              "      <td>Yes</td>\n",
              "      <td>Fiber optic</td>\n",
              "      <td>No</td>\n",
              "      <td>No</td>\n",
              "      <td>No</td>\n",
              "      <td>No</td>\n",
              "      <td>No</td>\n",
              "      <td>No</td>\n",
              "      <td>Month-to-month</td>\n",
              "      <td>Yes</td>\n",
              "      <td>Bank transfer (automatic)</td>\n",
              "      <td>74.95</td>\n",
              "      <td>2869.85</td>\n",
              "      <td>Yes</td>\n",
              "    </tr>\n",
              "    <tr>\n",
              "      <th>3</th>\n",
              "      <td>6739</td>\n",
              "      <td>6994-KERXL</td>\n",
              "      <td>Male</td>\n",
              "      <td>0</td>\n",
              "      <td>No</td>\n",
              "      <td>No</td>\n",
              "      <td>4</td>\n",
              "      <td>Yes</td>\n",
              "      <td>No</td>\n",
              "      <td>DSL</td>\n",
              "      <td>No</td>\n",
              "      <td>No</td>\n",
              "      <td>No</td>\n",
              "      <td>No</td>\n",
              "      <td>No</td>\n",
              "      <td>Yes</td>\n",
              "      <td>Month-to-month</td>\n",
              "      <td>Yes</td>\n",
              "      <td>Electronic check</td>\n",
              "      <td>55.90</td>\n",
              "      <td>238.5</td>\n",
              "      <td>No</td>\n",
              "    </tr>\n",
              "    <tr>\n",
              "      <th>4</th>\n",
              "      <td>432</td>\n",
              "      <td>2181-UAESM</td>\n",
              "      <td>Male</td>\n",
              "      <td>0</td>\n",
              "      <td>No</td>\n",
              "      <td>No</td>\n",
              "      <td>2</td>\n",
              "      <td>Yes</td>\n",
              "      <td>No</td>\n",
              "      <td>DSL</td>\n",
              "      <td>Yes</td>\n",
              "      <td>No</td>\n",
              "      <td>Yes</td>\n",
              "      <td>No</td>\n",
              "      <td>No</td>\n",
              "      <td>No</td>\n",
              "      <td>Month-to-month</td>\n",
              "      <td>No</td>\n",
              "      <td>Electronic check</td>\n",
              "      <td>53.45</td>\n",
              "      <td>119.5</td>\n",
              "      <td>No</td>\n",
              "    </tr>\n",
              "  </tbody>\n",
              "</table>\n",
              "</div>"
            ],
            "text/plain": [
              "   Unnamed: 0  customerID  gender  ...  MonthlyCharges TotalCharges Churn\n",
              "0        1869  7010-BRBUU    Male  ...           24.10      1734.65    No\n",
              "1        4528  9688-YGXVR  Female  ...           88.15       3973.2    No\n",
              "2        6344  9286-DOJGF  Female  ...           74.95      2869.85   Yes\n",
              "3        6739  6994-KERXL    Male  ...           55.90        238.5    No\n",
              "4         432  2181-UAESM    Male  ...           53.45        119.5    No\n",
              "\n",
              "[5 rows x 22 columns]"
            ]
          },
          "metadata": {
            "tags": []
          },
          "execution_count": 9
        }
      ]
    },
    {
      "cell_type": "markdown",
      "metadata": {
        "id": "Fn4dq4R7RMrz"
      },
      "source": [
        "Los datos no tienen variables nulas, SITUción que no siempre pasa en la vida real ;)  \r\n",
        "No necesitamos algunas de estas columnas tanto en el análisis de datos como en los enfoques de predicción.  \r\n",
        "Además, 'Sí' y 'No' no es ideal para tener un modelo de clasificación, así que los cambiamos a   \r\n",
        "1 = 'Sí'   \r\n",
        "0 = 'No'  \r\n"
      ]
    },
    {
      "cell_type": "code",
      "metadata": {
        "id": "TuTmQsSCQORz"
      },
      "source": [
        "data2=data.copy()"
      ],
      "execution_count": null,
      "outputs": []
    },
    {
      "cell_type": "markdown",
      "metadata": {
        "id": "a50cHeb7_HRI"
      },
      "source": [
        "Eliminamos las columnas -> Unnamed: 0, customerID  \r\n",
        "Reemplazamos   \r\n",
        "1 = 'Sí'\r\n",
        "0 = 'No'"
      ]
    },
    {
      "cell_type": "code",
      "metadata": {
        "id": "bcI3CdTtQSqx"
      },
      "source": [
        "data2 = data2.drop(['Unnamed: 0', 'customerID'], axis=1)\r\n",
        "data2 = data2.replace('No', 0)\r\n",
        "data2 = data2.replace('Yes', 1)\r\n",
        "data2 = data2.replace('No internet service', 0)"
      ],
      "execution_count": null,
      "outputs": []
    },
    {
      "cell_type": "code",
      "metadata": {
        "colab": {
          "base_uri": "https://localhost:8080/",
          "height": 305
        },
        "id": "amXXnV1URFwu",
        "outputId": "8158ba73-ae9e-4e7c-a4d6-b4f775245c14"
      },
      "source": [
        "data2.head()"
      ],
      "execution_count": null,
      "outputs": [
        {
          "output_type": "execute_result",
          "data": {
            "text/html": [
              "<div>\n",
              "<style scoped>\n",
              "    .dataframe tbody tr th:only-of-type {\n",
              "        vertical-align: middle;\n",
              "    }\n",
              "\n",
              "    .dataframe tbody tr th {\n",
              "        vertical-align: top;\n",
              "    }\n",
              "\n",
              "    .dataframe thead th {\n",
              "        text-align: right;\n",
              "    }\n",
              "</style>\n",
              "<table border=\"1\" class=\"dataframe\">\n",
              "  <thead>\n",
              "    <tr style=\"text-align: right;\">\n",
              "      <th></th>\n",
              "      <th>gender</th>\n",
              "      <th>SeniorCitizen</th>\n",
              "      <th>Partner</th>\n",
              "      <th>Dependents</th>\n",
              "      <th>tenure</th>\n",
              "      <th>PhoneService</th>\n",
              "      <th>MultipleLines</th>\n",
              "      <th>InternetService</th>\n",
              "      <th>OnlineSecurity</th>\n",
              "      <th>OnlineBackup</th>\n",
              "      <th>DeviceProtection</th>\n",
              "      <th>TechSupport</th>\n",
              "      <th>StreamingTV</th>\n",
              "      <th>StreamingMovies</th>\n",
              "      <th>Contract</th>\n",
              "      <th>PaperlessBilling</th>\n",
              "      <th>PaymentMethod</th>\n",
              "      <th>MonthlyCharges</th>\n",
              "      <th>TotalCharges</th>\n",
              "      <th>Churn</th>\n",
              "    </tr>\n",
              "  </thead>\n",
              "  <tbody>\n",
              "    <tr>\n",
              "      <th>0</th>\n",
              "      <td>Male</td>\n",
              "      <td>0</td>\n",
              "      <td>1</td>\n",
              "      <td>1</td>\n",
              "      <td>72</td>\n",
              "      <td>1</td>\n",
              "      <td>1</td>\n",
              "      <td>0</td>\n",
              "      <td>0</td>\n",
              "      <td>0</td>\n",
              "      <td>0</td>\n",
              "      <td>0</td>\n",
              "      <td>0</td>\n",
              "      <td>0</td>\n",
              "      <td>Two year</td>\n",
              "      <td>0</td>\n",
              "      <td>Credit card (automatic)</td>\n",
              "      <td>24.10</td>\n",
              "      <td>1734.65</td>\n",
              "      <td>0</td>\n",
              "    </tr>\n",
              "    <tr>\n",
              "      <th>1</th>\n",
              "      <td>Female</td>\n",
              "      <td>0</td>\n",
              "      <td>0</td>\n",
              "      <td>0</td>\n",
              "      <td>44</td>\n",
              "      <td>1</td>\n",
              "      <td>0</td>\n",
              "      <td>Fiber optic</td>\n",
              "      <td>0</td>\n",
              "      <td>1</td>\n",
              "      <td>1</td>\n",
              "      <td>0</td>\n",
              "      <td>1</td>\n",
              "      <td>0</td>\n",
              "      <td>Month-to-month</td>\n",
              "      <td>1</td>\n",
              "      <td>Credit card (automatic)</td>\n",
              "      <td>88.15</td>\n",
              "      <td>3973.2</td>\n",
              "      <td>0</td>\n",
              "    </tr>\n",
              "    <tr>\n",
              "      <th>2</th>\n",
              "      <td>Female</td>\n",
              "      <td>1</td>\n",
              "      <td>1</td>\n",
              "      <td>0</td>\n",
              "      <td>38</td>\n",
              "      <td>1</td>\n",
              "      <td>1</td>\n",
              "      <td>Fiber optic</td>\n",
              "      <td>0</td>\n",
              "      <td>0</td>\n",
              "      <td>0</td>\n",
              "      <td>0</td>\n",
              "      <td>0</td>\n",
              "      <td>0</td>\n",
              "      <td>Month-to-month</td>\n",
              "      <td>1</td>\n",
              "      <td>Bank transfer (automatic)</td>\n",
              "      <td>74.95</td>\n",
              "      <td>2869.85</td>\n",
              "      <td>1</td>\n",
              "    </tr>\n",
              "    <tr>\n",
              "      <th>3</th>\n",
              "      <td>Male</td>\n",
              "      <td>0</td>\n",
              "      <td>0</td>\n",
              "      <td>0</td>\n",
              "      <td>4</td>\n",
              "      <td>1</td>\n",
              "      <td>0</td>\n",
              "      <td>DSL</td>\n",
              "      <td>0</td>\n",
              "      <td>0</td>\n",
              "      <td>0</td>\n",
              "      <td>0</td>\n",
              "      <td>0</td>\n",
              "      <td>1</td>\n",
              "      <td>Month-to-month</td>\n",
              "      <td>1</td>\n",
              "      <td>Electronic check</td>\n",
              "      <td>55.90</td>\n",
              "      <td>238.5</td>\n",
              "      <td>0</td>\n",
              "    </tr>\n",
              "    <tr>\n",
              "      <th>4</th>\n",
              "      <td>Male</td>\n",
              "      <td>0</td>\n",
              "      <td>0</td>\n",
              "      <td>0</td>\n",
              "      <td>2</td>\n",
              "      <td>1</td>\n",
              "      <td>0</td>\n",
              "      <td>DSL</td>\n",
              "      <td>1</td>\n",
              "      <td>0</td>\n",
              "      <td>1</td>\n",
              "      <td>0</td>\n",
              "      <td>0</td>\n",
              "      <td>0</td>\n",
              "      <td>Month-to-month</td>\n",
              "      <td>0</td>\n",
              "      <td>Electronic check</td>\n",
              "      <td>53.45</td>\n",
              "      <td>119.5</td>\n",
              "      <td>0</td>\n",
              "    </tr>\n",
              "  </tbody>\n",
              "</table>\n",
              "</div>"
            ],
            "text/plain": [
              "   gender  SeniorCitizen  Partner  ...  MonthlyCharges  TotalCharges  Churn\n",
              "0    Male              0        1  ...           24.10       1734.65      0\n",
              "1  Female              0        0  ...           88.15        3973.2      0\n",
              "2  Female              1        1  ...           74.95       2869.85      1\n",
              "3    Male              0        0  ...           55.90         238.5      0\n",
              "4    Male              0        0  ...           53.45         119.5      0\n",
              "\n",
              "[5 rows x 20 columns]"
            ]
          },
          "metadata": {
            "tags": []
          },
          "execution_count": 6
        }
      ]
    },
    {
      "cell_type": "markdown",
      "metadata": {
        "id": "cCd9h4IlA2H4"
      },
      "source": [
        "# **Exploramos las columnas/campos/atributos**"
      ]
    },
    {
      "cell_type": "code",
      "metadata": {
        "colab": {
          "base_uri": "https://localhost:8080/"
        },
        "id": "9ADhrhK0RKPP",
        "outputId": "86c56c59-eb84-47c9-d1ce-20ed5bac9424"
      },
      "source": [
        "data2['InternetService'].value_counts()"
      ],
      "execution_count": null,
      "outputs": [
        {
          "output_type": "execute_result",
          "data": {
            "text/plain": [
              "Fiber optic    2627\n",
              "DSL            2068\n",
              "0              1291\n",
              "Name: InternetService, dtype: int64"
            ]
          },
          "metadata": {
            "tags": []
          },
          "execution_count": 7
        }
      ]
    },
    {
      "cell_type": "code",
      "metadata": {
        "id": "vhr_9K6fT2MV"
      },
      "source": [
        "data2['InternetService'] = data2['InternetService'].replace('Fiber optic', 2)\r\n",
        "data2['InternetService'] = data2['InternetService'].replace('DSL', 1)\r\n"
      ],
      "execution_count": null,
      "outputs": []
    },
    {
      "cell_type": "code",
      "metadata": {
        "colab": {
          "base_uri": "https://localhost:8080/"
        },
        "id": "qu6o5YBwVqdE",
        "outputId": "2f4ff3a0-6986-42b8-917a-a2dcf6e8a902"
      },
      "source": [
        "data2['InternetService'].value_counts()"
      ],
      "execution_count": null,
      "outputs": [
        {
          "output_type": "execute_result",
          "data": {
            "text/plain": [
              "2    2627\n",
              "1    2068\n",
              "0    1291\n",
              "Name: InternetService, dtype: int64"
            ]
          },
          "metadata": {
            "tags": []
          },
          "execution_count": 10
        }
      ]
    },
    {
      "cell_type": "code",
      "metadata": {
        "colab": {
          "base_uri": "https://localhost:8080/"
        },
        "id": "2nKTcpGsVuIm",
        "outputId": "fff2d749-656e-45a2-ff21-b8f07e0b872d"
      },
      "source": [
        "data2['Contract'].value_counts()"
      ],
      "execution_count": null,
      "outputs": [
        {
          "output_type": "execute_result",
          "data": {
            "text/plain": [
              "Month-to-month    3269\n",
              "Two year          1441\n",
              "One year          1276\n",
              "Name: Contract, dtype: int64"
            ]
          },
          "metadata": {
            "tags": []
          },
          "execution_count": 11
        }
      ]
    },
    {
      "cell_type": "code",
      "metadata": {
        "id": "_5L1QGulYV1i"
      },
      "source": [
        "data2['Contract'] = data2['Contract'].replace('Month-to-month', 1)\r\n",
        "data2['Contract'] = data2['Contract'].replace('Two year', 24)\r\n",
        "data2['Contract'] = data2['Contract'].replace('One year', 12)"
      ],
      "execution_count": null,
      "outputs": []
    },
    {
      "cell_type": "code",
      "metadata": {
        "colab": {
          "base_uri": "https://localhost:8080/"
        },
        "id": "jIeU46HnZQYG",
        "outputId": "926b51e6-baff-49dd-b57a-54fc770a8460"
      },
      "source": [
        "data2['Contract'].value_counts()"
      ],
      "execution_count": null,
      "outputs": [
        {
          "output_type": "execute_result",
          "data": {
            "text/plain": [
              "1     3269\n",
              "24    1441\n",
              "12    1276\n",
              "Name: Contract, dtype: int64"
            ]
          },
          "metadata": {
            "tags": []
          },
          "execution_count": 13
        }
      ]
    },
    {
      "cell_type": "code",
      "metadata": {
        "colab": {
          "base_uri": "https://localhost:8080/"
        },
        "id": "PvwSxn6jZRCQ",
        "outputId": "4af9a901-5199-4b23-d73e-0cfb132abb72"
      },
      "source": [
        "data2['PaymentMethod'].value_counts()"
      ],
      "execution_count": null,
      "outputs": [
        {
          "output_type": "execute_result",
          "data": {
            "text/plain": [
              "Electronic check             2006\n",
              "Mailed check                 1369\n",
              "Bank transfer (automatic)    1308\n",
              "Credit card (automatic)      1303\n",
              "Name: PaymentMethod, dtype: int64"
            ]
          },
          "metadata": {
            "tags": []
          },
          "execution_count": 14
        }
      ]
    },
    {
      "cell_type": "code",
      "metadata": {
        "id": "aE5pLkRvcZGM"
      },
      "source": [
        "data2['PaymentMethod'] = data2['PaymentMethod'].replace('Electronic check', 1)\r\n",
        "data2['PaymentMethod'] = data2['PaymentMethod'].replace('Mailed check', 2)\r\n",
        "data2['PaymentMethod'] = data2['PaymentMethod'].replace('Bank transfer (automatic)', 3)\r\n",
        "data2['PaymentMethod'] = data2['PaymentMethod'].replace('Credit card (automatic)', 4)\r\n",
        "\r\n",
        "#data2['MultipleLines'] = data2['MultipleLines'].replace('No phone service', 0)"
      ],
      "execution_count": null,
      "outputs": []
    },
    {
      "cell_type": "code",
      "metadata": {
        "colab": {
          "base_uri": "https://localhost:8080/"
        },
        "id": "VCQ_x5QVdFjf",
        "outputId": "7f45567b-5acf-41e1-8e53-3983803ba39e"
      },
      "source": [
        "data2['PaymentMethod'].value_counts()"
      ],
      "execution_count": null,
      "outputs": [
        {
          "output_type": "execute_result",
          "data": {
            "text/plain": [
              "1    2006\n",
              "2    1369\n",
              "3    1308\n",
              "4    1303\n",
              "Name: PaymentMethod, dtype: int64"
            ]
          },
          "metadata": {
            "tags": []
          },
          "execution_count": 16
        }
      ]
    },
    {
      "cell_type": "code",
      "metadata": {
        "colab": {
          "base_uri": "https://localhost:8080/"
        },
        "id": "JZueAZ4PdGFu",
        "outputId": "d85cb0bf-3e2f-4670-c1db-ecfd30f898f0"
      },
      "source": [
        "data2['MultipleLines'].value_counts()"
      ],
      "execution_count": null,
      "outputs": [
        {
          "output_type": "execute_result",
          "data": {
            "text/plain": [
              "0                   2848\n",
              "1                   2548\n",
              "No phone service     590\n",
              "Name: MultipleLines, dtype: int64"
            ]
          },
          "metadata": {
            "tags": []
          },
          "execution_count": 17
        }
      ]
    },
    {
      "cell_type": "code",
      "metadata": {
        "id": "2kk3cuvndKdB"
      },
      "source": [
        "data2['MultipleLines'] = data2['MultipleLines'].replace('No phone service', 0)"
      ],
      "execution_count": null,
      "outputs": []
    },
    {
      "cell_type": "code",
      "metadata": {
        "colab": {
          "base_uri": "https://localhost:8080/"
        },
        "id": "ph8s-lmwdUhO",
        "outputId": "c26e95dc-eaa5-4b9c-c53d-4d8920a711a5"
      },
      "source": [
        "data2['MultipleLines'].value_counts()"
      ],
      "execution_count": null,
      "outputs": [
        {
          "output_type": "execute_result",
          "data": {
            "text/plain": [
              "0    3438\n",
              "1    2548\n",
              "Name: MultipleLines, dtype: int64"
            ]
          },
          "metadata": {
            "tags": []
          },
          "execution_count": 19
        }
      ]
    },
    {
      "cell_type": "code",
      "metadata": {
        "id": "ARAAXRXadWUf"
      },
      "source": [
        "data2['gender'] = data2['gender'].replace('Male', 1)\r\n",
        "data2['gender'] = data2['gender'].replace('Female', 0)"
      ],
      "execution_count": null,
      "outputs": []
    },
    {
      "cell_type": "code",
      "metadata": {
        "colab": {
          "base_uri": "https://localhost:8080/"
        },
        "id": "h4rQDKKxdgPa",
        "outputId": "a57c81b1-d24a-4f09-fe18-57b07135c477"
      },
      "source": [
        "data2['gender'].value_counts()"
      ],
      "execution_count": null,
      "outputs": [
        {
          "output_type": "execute_result",
          "data": {
            "text/plain": [
              "1    3050\n",
              "0    2936\n",
              "Name: gender, dtype: int64"
            ]
          },
          "metadata": {
            "tags": []
          },
          "execution_count": 21
        }
      ]
    },
    {
      "cell_type": "markdown",
      "metadata": {
        "id": "bjfagINwfAwq"
      },
      "source": [
        "El objetivo para este dataset es transformar todos los atributos a \"int\""
      ]
    },
    {
      "cell_type": "code",
      "metadata": {
        "colab": {
          "base_uri": "https://localhost:8080/"
        },
        "id": "ssOQB38tfNNo",
        "outputId": "aae9dce4-3819-4c29-bb9e-fbff83204610"
      },
      "source": [
        "data2.info()"
      ],
      "execution_count": null,
      "outputs": [
        {
          "output_type": "stream",
          "text": [
            "<class 'pandas.core.frame.DataFrame'>\n",
            "RangeIndex: 5986 entries, 0 to 5985\n",
            "Data columns (total 20 columns):\n",
            " #   Column            Non-Null Count  Dtype  \n",
            "---  ------            --------------  -----  \n",
            " 0   gender            5986 non-null   int64  \n",
            " 1   SeniorCitizen     5986 non-null   int64  \n",
            " 2   Partner           5986 non-null   int64  \n",
            " 3   Dependents        5986 non-null   int64  \n",
            " 4   tenure            5986 non-null   int64  \n",
            " 5   PhoneService      5986 non-null   int64  \n",
            " 6   MultipleLines     5986 non-null   int64  \n",
            " 7   InternetService   5986 non-null   int64  \n",
            " 8   OnlineSecurity    5986 non-null   int64  \n",
            " 9   OnlineBackup      5986 non-null   int64  \n",
            " 10  DeviceProtection  5986 non-null   int64  \n",
            " 11  TechSupport       5986 non-null   int64  \n",
            " 12  StreamingTV       5986 non-null   int64  \n",
            " 13  StreamingMovies   5986 non-null   int64  \n",
            " 14  Contract          5986 non-null   int64  \n",
            " 15  PaperlessBilling  5986 non-null   int64  \n",
            " 16  PaymentMethod     5986 non-null   int64  \n",
            " 17  MonthlyCharges    5986 non-null   float64\n",
            " 18  TotalCharges      5986 non-null   object \n",
            " 19  Churn             5986 non-null   int64  \n",
            "dtypes: float64(1), int64(18), object(1)\n",
            "memory usage: 935.4+ KB\n"
          ],
          "name": "stdout"
        }
      ]
    },
    {
      "cell_type": "markdown",
      "metadata": {
        "id": "TTL1M9cigHUT"
      },
      "source": [
        "17  MonthlyCharges    5986 non-null   float64  \r\n",
        "18  TotalCharges      5986 non-null   object    "
      ]
    },
    {
      "cell_type": "code",
      "metadata": {
        "id": "A6tLUiHRgJe6"
      },
      "source": [
        "data2['MonthlyCharges']=data2['MonthlyCharges'].astype(int)"
      ],
      "execution_count": null,
      "outputs": []
    },
    {
      "cell_type": "code",
      "metadata": {
        "id": "n0ukgr1Fgb7H"
      },
      "source": [
        "data2['TotalCharges'] = data2['TotalCharges'].astype(str)\r\n",
        "data2['TotalCharges'] = data2['TotalCharges'].replace(' ', 0)\r\n",
        "data2['TotalCharges'] = data2['TotalCharges'].astype(float)\r\n",
        "total_charge = data2['TotalCharges']"
      ],
      "execution_count": null,
      "outputs": []
    },
    {
      "cell_type": "code",
      "metadata": {
        "id": "a63ZOyB7jRNn",
        "colab": {
          "base_uri": "https://localhost:8080/"
        },
        "outputId": "734b600e-a451-473a-c71c-9e787b1fe1b1"
      },
      "source": [
        "for i in range(0, len(data2)-1):\r\n",
        "    total_charge[i] = int(total_charge[i])\r\n",
        "data2['TotalCharges'] = data2['TotalCharges'].astype(int)"
      ],
      "execution_count": null,
      "outputs": [
        {
          "output_type": "stream",
          "text": [
            "/usr/local/lib/python3.7/dist-packages/ipykernel_launcher.py:2: SettingWithCopyWarning: \n",
            "A value is trying to be set on a copy of a slice from a DataFrame\n",
            "\n",
            "See the caveats in the documentation: https://pandas.pydata.org/pandas-docs/stable/user_guide/indexing.html#returning-a-view-versus-a-copy\n",
            "  \n"
          ],
          "name": "stderr"
        }
      ]
    },
    {
      "cell_type": "code",
      "metadata": {
        "colab": {
          "base_uri": "https://localhost:8080/"
        },
        "id": "p7pwzOzooiWo",
        "outputId": "fa5eb088-b206-4d77-8828-5591cf12c6ba"
      },
      "source": [
        "data2.info()"
      ],
      "execution_count": null,
      "outputs": [
        {
          "output_type": "stream",
          "text": [
            "<class 'pandas.core.frame.DataFrame'>\n",
            "RangeIndex: 5986 entries, 0 to 5985\n",
            "Data columns (total 20 columns):\n",
            " #   Column            Non-Null Count  Dtype\n",
            "---  ------            --------------  -----\n",
            " 0   gender            5986 non-null   int64\n",
            " 1   SeniorCitizen     5986 non-null   int64\n",
            " 2   Partner           5986 non-null   int64\n",
            " 3   Dependents        5986 non-null   int64\n",
            " 4   tenure            5986 non-null   int64\n",
            " 5   PhoneService      5986 non-null   int64\n",
            " 6   MultipleLines     5986 non-null   int64\n",
            " 7   InternetService   5986 non-null   int64\n",
            " 8   OnlineSecurity    5986 non-null   int64\n",
            " 9   OnlineBackup      5986 non-null   int64\n",
            " 10  DeviceProtection  5986 non-null   int64\n",
            " 11  TechSupport       5986 non-null   int64\n",
            " 12  StreamingTV       5986 non-null   int64\n",
            " 13  StreamingMovies   5986 non-null   int64\n",
            " 14  Contract          5986 non-null   int64\n",
            " 15  PaperlessBilling  5986 non-null   int64\n",
            " 16  PaymentMethod     5986 non-null   int64\n",
            " 17  MonthlyCharges    5986 non-null   int64\n",
            " 18  TotalCharges      5986 non-null   int64\n",
            " 19  Churn             5986 non-null   int64\n",
            "dtypes: int64(20)\n",
            "memory usage: 935.4 KB\n"
          ],
          "name": "stdout"
        }
      ]
    },
    {
      "cell_type": "markdown",
      "metadata": {
        "id": "9dBqq-bmmcUG"
      },
      "source": [
        "Paso 1: Todas las columnas en formato int"
      ]
    },
    {
      "cell_type": "markdown",
      "metadata": {
        "id": "lGEA6GjCn3CB"
      },
      "source": [
        "Descripción de los datos (con el cálculo de estadísticas básicas)  \r\n",
        "Investigación de dependencias y formulación de hipótesis  \r\n",
        "Construir modelos para predecir el flujo de salida (con justificación para la elección de un modelo en particular) basados ​​en hipótesis probadas y relaciones identificadas  \r\n",
        "Comparación de la calidad de los modelos obtenidos.  "
      ]
    },
    {
      "cell_type": "code",
      "metadata": {
        "id": "ka1jSqZUmh6t",
        "colab": {
          "base_uri": "https://localhost:8080/",
          "height": 297
        },
        "outputId": "9b530f88-05a5-4ead-fc3f-9d19c36fa591"
      },
      "source": [
        "sns.barplot(x='Partner', y='MonthlyCharges', data=data2)\r\n",
        "#Partner - is the client married (Yes, No)"
      ],
      "execution_count": null,
      "outputs": [
        {
          "output_type": "execute_result",
          "data": {
            "text/plain": [
              "<matplotlib.axes._subplots.AxesSubplot at 0x7fb49ff8c810>"
            ]
          },
          "metadata": {
            "tags": []
          },
          "execution_count": 29
        },
        {
          "output_type": "display_data",
          "data": {
            "image/png": "[encoded data removed]",
            "text/plain": [
              "<Figure size 432x288 with 1 Axes>"
            ]
          },
          "metadata": {
            "tags": [],
            "needs_background": "light"
          }
        }
      ]
    },
    {
      "cell_type": "code",
      "metadata": {
        "colab": {
          "base_uri": "https://localhost:8080/",
          "height": 301
        },
        "id": "3SLZko-4spBC",
        "outputId": "57c5ec6e-7913-4c04-be49-b584e8ac9f40"
      },
      "source": [
        "sns.barplot(x='Contract', y='MonthlyCharges', data=data2)\r\n",
        "plt.ylabel('Charges')\r\n",
        "#Contract - type of customer contract\r\n",
        "#MonthlyCharges - current monthly payment\r\n"
      ],
      "execution_count": null,
      "outputs": [
        {
          "output_type": "execute_result",
          "data": {
            "text/plain": [
              "Text(0, 0.5, 'Ch')"
            ]
          },
          "metadata": {
            "tags": []
          },
          "execution_count": 31
        },
        {
          "output_type": "display_data",
          "data": {
            "image/png": "[encoded data removed]",
            "text/plain": [
              "<Figure size 432x288 with 1 Axes>"
            ]
          },
          "metadata": {
            "tags": [],
            "needs_background": "light"
          }
        }
      ]
    },
    {
      "cell_type": "code",
      "metadata": {
        "colab": {
          "base_uri": "https://localhost:8080/",
          "height": 297
        },
        "id": "NJcy50kFvNMm",
        "outputId": "002cf334-0e2c-41b2-c305-73d7d1cabdf8"
      },
      "source": [
        "sns.barplot(x='SeniorCitizen', y='MonthlyCharges', data=data2)\r\n",
        "plt.xlabel('Non senior - Senior')\r\n",
        "#SeniorCitizen - is the client retired (1, 0)"
      ],
      "execution_count": null,
      "outputs": [
        {
          "output_type": "execute_result",
          "data": {
            "text/plain": [
              "Text(0.5, 0, 'Non senior - Senior')"
            ]
          },
          "metadata": {
            "tags": []
          },
          "execution_count": 34
        },
        {
          "output_type": "display_data",
          "data": {
            "image/png": "[encoded data removed]",
            "text/plain": [
              "<Figure size 432x288 with 1 Axes>"
            ]
          },
          "metadata": {
            "tags": [],
            "needs_background": "light"
          }
        }
      ]
    },
    {
      "cell_type": "code",
      "metadata": {
        "colab": {
          "base_uri": "https://localhost:8080/",
          "height": 297
        },
        "id": "ChMWnGn9tl-p",
        "outputId": "8418ca54-91e8-4dec-8265-1dc878246ef5"
      },
      "source": [
        "sns.barplot(x='InternetService', y='MonthlyCharges', data=data2)\r\n",
        "plt.xlabel('No Internet - DSL - Fiber optic')\r\n",
        "# Fiber optic 2\r\n",
        "# DSL 1\r\n",
        "# No Internet 0"
      ],
      "execution_count": null,
      "outputs": [
        {
          "output_type": "execute_result",
          "data": {
            "text/plain": [
              "Text(0.5, 0, 'No Internet - DSL - Fiber optic')"
            ]
          },
          "metadata": {
            "tags": []
          },
          "execution_count": 32
        },
        {
          "output_type": "display_data",
          "data": {
            "image/png": "[encoded data removed]",
            "text/plain": [
              "<Figure size 432x288 with 1 Axes>"
            ]
          },
          "metadata": {
            "tags": [],
            "needs_background": "light"
          }
        }
      ]
    },
    {
      "cell_type": "markdown",
      "metadata": {
        "id": "7Vf4h4Pgvppo"
      },
      "source": [
        "Tener pareja o no, no afecta tanto los cargos mensuales, el efecto es mínimo.  \r\n",
        "El año del contrato afecta los costos mensuales. El contrato de mayor duración tiene los precios más bajos debido al compromiso del cliente.  \r\n",
        "Las personas mayores pagan más que las personas que no son mayores. Eso podría deberse a que las personas más jóvenes usan más Internet, por lo que sus contratos tienen un mayor rendimiento.  \r\n",
        "La fibra óptica es la Internet más rápida y confiable en este momento. No es de extrañar que sea el más caro.  "
      ]
    },
    {
      "cell_type": "code",
      "metadata": {
        "colab": {
          "base_uri": "https://localhost:8080/",
          "height": 474
        },
        "id": "dprd_6b9uPYx",
        "outputId": "ae36ce83-fefc-4d84-a10f-191b300d0845"
      },
      "source": [
        "plt.figure(dpi=100)\r\n",
        "sns.heatmap(data2.corr(), square = True, linewidths= .2, annot=False, fmt='.2g');\r\n",
        "plt.show()"
      ],
      "execution_count": null,
      "outputs": [
        {
          "output_type": "display_data",
          "data": {
            "image/png": "[encoded data removed]",
            "text/plain": [
              "<Figure size 600x400 with 2 Axes>"
            ]
          },
          "metadata": {
            "tags": [],
            "needs_background": "light"
          }
        }
      ]
    },
    {
      "cell_type": "markdown",
      "metadata": {
        "id": "GtaHFNv2yIHw"
      },
      "source": [
        "Seleccionaremos los más correlacionados para el modelo."
      ]
    },
    {
      "cell_type": "code",
      "metadata": {
        "colab": {
          "base_uri": "https://localhost:8080/"
        },
        "id": "-q6OztBpzAYN",
        "outputId": "63a12e74-6a77-49a1-b769-d1cd0838a186"
      },
      "source": [
        "data2[abs(data2['Churn']) > 0.1].index"
      ],
      "execution_count": null,
      "outputs": [
        {
          "output_type": "execute_result",
          "data": {
            "text/plain": [
              "Int64Index([   2,   11,   18,   19,   23,   24,   26,   28,   43,   44,\n",
              "            ...\n",
              "            5947, 5952, 5953, 5957, 5962, 5973, 5976, 5980, 5981, 5984],\n",
              "           dtype='int64', length=1587)"
            ]
          },
          "metadata": {
            "tags": []
          },
          "execution_count": 50
        }
      ]
    },
    {
      "cell_type": "code",
      "metadata": {
        "colab": {
          "base_uri": "https://localhost:8080/"
        },
        "id": "DHnH4f0CyWZu",
        "outputId": "d98bde66-ed48-4f8d-d0d9-34ba263d7395"
      },
      "source": [
        "data2.corr()[abs(data2.corr()['Churn']) > 0.1].index"
      ],
      "execution_count": null,
      "outputs": [
        {
          "output_type": "execute_result",
          "data": {
            "text/plain": [
              "Index(['SeniorCitizen', 'Partner', 'Dependents', 'tenure', 'InternetService',\n",
              "       'OnlineSecurity', 'TechSupport', 'Contract', 'PaperlessBilling',\n",
              "       'PaymentMethod', 'MonthlyCharges', 'TotalCharges', 'Churn'],\n",
              "      dtype='object')"
            ]
          },
          "metadata": {
            "tags": []
          },
          "execution_count": 51
        }
      ]
    },
    {
      "cell_type": "code",
      "metadata": {
        "id": "9_LU-rfszFOn"
      },
      "source": [
        "data3=data2 [['SeniorCitizen', 'Partner', 'Dependents', 'tenure', 'InternetService',\r\n",
        "       'OnlineSecurity', 'TechSupport', 'Contract', 'PaperlessBilling',\r\n",
        "       'PaymentMethod', 'MonthlyCharges', 'TotalCharges', 'Churn']]"
      ],
      "execution_count": null,
      "outputs": []
    },
    {
      "cell_type": "code",
      "metadata": {
        "colab": {
          "base_uri": "https://localhost:8080/"
        },
        "id": "qlp6yDItzpEd",
        "outputId": "fc55e5e5-7268-46e1-ab9d-abff9a163348"
      },
      "source": [
        "data3.info(())"
      ],
      "execution_count": null,
      "outputs": [
        {
          "output_type": "stream",
          "text": [
            "<class 'pandas.core.frame.DataFrame'>\n",
            "RangeIndex: 5986 entries, 0 to 5985\n",
            "Data columns (total 13 columns):\n",
            " #   Column            Non-Null Count  Dtype\n",
            "---  ------            --------------  -----\n",
            " 0   SeniorCitizen     5986 non-null   int64\n",
            " 1   Partner           5986 non-null   int64\n",
            " 2   Dependents        5986 non-null   int64\n",
            " 3   tenure            5986 non-null   int64\n",
            " 4   InternetService   5986 non-null   int64\n",
            " 5   OnlineSecurity    5986 non-null   int64\n",
            " 6   TechSupport       5986 non-null   int64\n",
            " 7   Contract          5986 non-null   int64\n",
            " 8   PaperlessBilling  5986 non-null   int64\n",
            " 9   PaymentMethod     5986 non-null   int64\n",
            " 10  MonthlyCharges    5986 non-null   int64\n",
            " 11  TotalCharges      5986 non-null   int64\n",
            " 12  Churn             5986 non-null   int64\n",
            "dtypes: int64(13)\n",
            "memory usage: 608.1 KB\n"
          ],
          "name": "stdout"
        }
      ]
    },
    {
      "cell_type": "code",
      "metadata": {
        "id": "dJ4tjns5zs8N"
      },
      "source": [
        "from sklearn.model_selection import train_test_split\r\n",
        "from sklearn.metrics import classification_report\r\n",
        "from sklearn import metrics"
      ],
      "execution_count": null,
      "outputs": []
    },
    {
      "cell_type": "code",
      "metadata": {
        "id": "R3BbYzpF0Vf0"
      },
      "source": [
        "x = data3.drop(['Churn'], axis=1)\r\n",
        "y = data3['Churn']"
      ],
      "execution_count": null,
      "outputs": []
    },
    {
      "cell_type": "code",
      "metadata": {
        "colab": {
          "base_uri": "https://localhost:8080/"
        },
        "id": "7j0WDC_x0gpf",
        "outputId": "0c277491-0efb-4d79-f0ad-f2857bcd84d4"
      },
      "source": [
        "x.shape, y.shape"
      ],
      "execution_count": null,
      "outputs": [
        {
          "output_type": "execute_result",
          "data": {
            "text/plain": [
              "((5986, 12), (5986,))"
            ]
          },
          "metadata": {
            "tags": []
          },
          "execution_count": 56
        }
      ]
    },
    {
      "cell_type": "code",
      "metadata": {
        "id": "HB-iyA4d0lms"
      },
      "source": [
        "x_train, x_test, y_train, y_test = train_test_split(x, y, test_size=0.2, random_state=42)"
      ],
      "execution_count": null,
      "outputs": []
    },
    {
      "cell_type": "code",
      "metadata": {
        "colab": {
          "base_uri": "https://localhost:8080/"
        },
        "id": "s2b-JueSEKsz",
        "outputId": "d0cae888-16b7-47b1-b231-d77ccd693251"
      },
      "source": [
        "x_train.shape, x_test.shape"
      ],
      "execution_count": null,
      "outputs": [
        {
          "output_type": "execute_result",
          "data": {
            "text/plain": [
              "((4788, 12), (1198, 12))"
            ]
          },
          "metadata": {
            "tags": []
          },
          "execution_count": 75
        }
      ]
    },
    {
      "cell_type": "code",
      "metadata": {
        "colab": {
          "base_uri": "https://localhost:8080/"
        },
        "id": "42Mea3EeEVZ5",
        "outputId": "4ccaa4a0-f664-4e1a-f45a-9dd335c77955"
      },
      "source": [
        "y_train.shape, y_test.shape"
      ],
      "execution_count": null,
      "outputs": [
        {
          "output_type": "execute_result",
          "data": {
            "text/plain": [
              "((4788,), (1198,))"
            ]
          },
          "metadata": {
            "tags": []
          },
          "execution_count": 76
        }
      ]
    },
    {
      "cell_type": "markdown",
      "metadata": {
        "id": "JqSPs0wtEotu"
      },
      "source": [
        "Regresión Lineal"
      ]
    },
    {
      "cell_type": "code",
      "metadata": {
        "id": "tpam4qF8Et79"
      },
      "source": [
        "from sklearn.linear_model import LinearRegression\r\n",
        "reg = LinearRegression()\r\n",
        "reg.fit(x_train, y_train)\r\n",
        "prediction_lreg = reg.predict(x_test)\r\n",
        "\r\n",
        "#print(classification_report(y_test,prediction_lreg))\r\n",
        "#metrics.plot_roc_curve(reg, x_test, y_test)"
      ],
      "execution_count": null,
      "outputs": []
    },
    {
      "cell_type": "markdown",
      "metadata": {
        "id": "mxm59luVPLcJ"
      },
      "source": [
        "Para terminar: el problema es que está aplicando una métrica (precisión) que es inapropiada para su modelo ( LinearRegression): si está en una configuración de clasificación, debe cambiar su modelo (por ejemplo, usar LogisticRegressionen su lugar); si se encuentra en una configuración de regresión (es decir, predicción numérica), debe cambiar la métrica"
      ]
    },
    {
      "cell_type": "markdown",
      "metadata": {
        "id": "rviLs6oJ1zqr"
      },
      "source": [
        "Regresion Logistica"
      ]
    },
    {
      "cell_type": "code",
      "metadata": {
        "id": "EcfQTeV1-Btl"
      },
      "source": [
        ""
      ],
      "execution_count": null,
      "outputs": []
    },
    {
      "cell_type": "code",
      "metadata": {
        "colab": {
          "base_uri": "https://localhost:8080/",
          "height": 626
        },
        "id": "K2WSSwnl1vhJ",
        "outputId": "232c4e6c-fe13-40b0-e8a7-c09861bafb75"
      },
      "source": [
        "from sklearn.linear_model import LogisticRegression\r\n",
        "logistic = LogisticRegression()\r\n",
        "logistic.fit(x_train, y_train)\r\n",
        "prediction_lr = logistic.predict(x_test)\r\n",
        "print(classification_report(y_test,prediction_lr))\r\n",
        "metrics.plot_roc_curve(logistic, x_test, y_test)"
      ],
      "execution_count": null,
      "outputs": [
        {
          "output_type": "stream",
          "text": [
            "              precision    recall  f1-score   support\n",
            "\n",
            "           0       0.85      0.86      0.86       895\n",
            "           1       0.58      0.56      0.57       303\n",
            "\n",
            "    accuracy                           0.79      1198\n",
            "   macro avg       0.72      0.71      0.72      1198\n",
            "weighted avg       0.79      0.79      0.79      1198\n",
            "\n"
          ],
          "name": "stdout"
        },
        {
          "output_type": "stream",
          "text": [
            "/usr/local/lib/python3.7/dist-packages/sklearn/linear_model/_logistic.py:940: ConvergenceWarning: lbfgs failed to converge (status=1):\n",
            "STOP: TOTAL NO. of ITERATIONS REACHED LIMIT.\n",
            "\n",
            "Increase the number of iterations (max_iter) or scale the data as shown in:\n",
            "    https://scikit-learn.org/stable/modules/preprocessing.html\n",
            "Please also refer to the documentation for alternative solver options:\n",
            "    https://scikit-learn.org/stable/modules/linear_model.html#logistic-regression\n",
            "  extra_warning_msg=_LOGISTIC_SOLVER_CONVERGENCE_MSG)\n"
          ],
          "name": "stderr"
        },
        {
          "output_type": "execute_result",
          "data": {
            "text/plain": [
              "<sklearn.metrics._plot.roc_curve.RocCurveDisplay at 0x7fb488662f90>"
            ]
          },
          "metadata": {
            "tags": []
          },
          "execution_count": 86
        },
        {
          "output_type": "display_data",
          "data": {
            "image/png": "[encoded data removed]",
            "text/plain": [
              "<Figure size 432x288 with 1 Axes>"
            ]
          },
          "metadata": {
            "tags": [],
            "needs_background": "light"
          }
        }
      ]
    },
    {
      "cell_type": "markdown",
      "metadata": {
        "id": "MGx_yPAnPQ5v"
      },
      "source": [
        "DECISION TREE"
      ]
    },
    {
      "cell_type": "code",
      "metadata": {
        "colab": {
          "base_uri": "https://localhost:8080/",
          "height": 461
        },
        "id": "Agn_mDpd2BFL",
        "outputId": "3a46eb81-2073-4204-a4b9-5c3205af8ad8"
      },
      "source": [
        "from sklearn.tree import DecisionTreeClassifier\r\n",
        "tree = DecisionTreeClassifier()\r\n",
        "tree.fit(x_train, y_train)\r\n",
        "prediction_dt = tree.predict(x_test)\r\n",
        "print(classification_report(y_test, prediction_dt))\r\n",
        "metrics.plot_roc_curve(tree, x_test, y_test)"
      ],
      "execution_count": null,
      "outputs": [
        {
          "output_type": "stream",
          "text": [
            "              precision    recall  f1-score   support\n",
            "\n",
            "           0       0.83      0.81      0.82       895\n",
            "           1       0.47      0.50      0.48       303\n",
            "\n",
            "    accuracy                           0.73      1198\n",
            "   macro avg       0.65      0.65      0.65      1198\n",
            "weighted avg       0.74      0.73      0.73      1198\n",
            "\n"
          ],
          "name": "stdout"
        },
        {
          "output_type": "execute_result",
          "data": {
            "text/plain": [
              "<sklearn.metrics._plot.roc_curve.RocCurveDisplay at 0x7fb48a1d4490>"
            ]
          },
          "metadata": {
            "tags": []
          },
          "execution_count": 82
        },
        {
          "output_type": "display_data",
          "data": {
            "image/png": "[encoded data removed]",
            "text/plain": [
              "<Figure size 432x288 with 1 Axes>"
            ]
          },
          "metadata": {
            "tags": [],
            "needs_background": "light"
          }
        }
      ]
    },
    {
      "cell_type": "markdown",
      "metadata": {
        "id": "Qym3zz5DPhDV"
      },
      "source": [
        "RANDOM FOREST"
      ]
    },
    {
      "cell_type": "code",
      "metadata": {
        "colab": {
          "base_uri": "https://localhost:8080/",
          "height": 461
        },
        "id": "oO8ktprTPiNw",
        "outputId": "2fdcb3a2-9179-43f2-9128-ecf86ff9b52f"
      },
      "source": [
        "from sklearn.ensemble import RandomForestClassifier\r\n",
        "forest = RandomForestClassifier()\r\n",
        "forest.fit(x_train, y_train)\r\n",
        "prediction_rf = forest.predict(x_test)\r\n",
        "print(classification_report(y_test, prediction_rf))\r\n",
        "metrics.plot_roc_curve(forest, x_test, y_test) "
      ],
      "execution_count": null,
      "outputs": [
        {
          "output_type": "stream",
          "text": [
            "              precision    recall  f1-score   support\n",
            "\n",
            "           0       0.83      0.88      0.86       895\n",
            "           1       0.57      0.47      0.52       303\n",
            "\n",
            "    accuracy                           0.78      1198\n",
            "   macro avg       0.70      0.68      0.69      1198\n",
            "weighted avg       0.77      0.78      0.77      1198\n",
            "\n"
          ],
          "name": "stdout"
        },
        {
          "output_type": "execute_result",
          "data": {
            "text/plain": [
              "<sklearn.metrics._plot.roc_curve.RocCurveDisplay at 0x7fb489fe5210>"
            ]
          },
          "metadata": {
            "tags": []
          },
          "execution_count": 85
        },
        {
          "output_type": "display_data",
          "data": {
            "image/png": "[encoded data removed]",
            "text/plain": [
              "<Figure size 432x288 with 1 Axes>"
            ]
          },
          "metadata": {
            "tags": [],
            "needs_background": "light"
          }
        }
      ]
    },
    {
      "cell_type": "markdown",
      "metadata": {
        "id": "y8IrzBSsZXP7"
      },
      "source": [
        "# **▶️ Hasta este punto logramos alrededor de un 80% de precisión con varios modelos ⬆️**⬆️"
      ]
    },
    {
      "cell_type": "code",
      "metadata": {
        "id": "PZrVkl0uaOtR"
      },
      "source": [
        ""
      ],
      "execution_count": null,
      "outputs": []
    }
  ]
}