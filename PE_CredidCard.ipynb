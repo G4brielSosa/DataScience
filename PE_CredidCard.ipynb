{
  "nbformat": 4,
  "nbformat_minor": 0,
  "metadata": {
    "colab": {
      "name": "PE_CredidCard.ipynb",
      "provenance": [],
      "collapsed_sections": [],
      "authorship_tag": "ABX9TyPAD5v+wpdQVV2v8x2BiQiG",
      "include_colab_link": true
    },
    "kernelspec": {
      "name": "python3",
      "display_name": "Python 3"
    }
  },
  "cells": [
    {
      "cell_type": "markdown",
      "metadata": {
        "id": "view-in-github",
        "colab_type": "text"
      },
      "source": [
        "<a href=\"https://colab.research.google.com/github/SosaGabriel/DataScience/blob/main/PE_CredidCard.ipynb\" target=\"_parent\"><img src=\"https://colab.research.google.com/assets/colab-badge.svg\" alt=\"Open In Colab\"/></a>"
      ]
    },
    {
      "cell_type": "code",
      "metadata": {
        "id": "lae_Z--NiXAK"
      },
      "source": [
        ""
      ],
      "execution_count": null,
      "outputs": []
    },
    {
      "cell_type": "markdown",
      "metadata": {
        "id": "z6vVje76Ybr3"
      },
      "source": [
        "# **Credit Card Fraud Detection**\n",
        "En este desfío de [Kaggle](https://https://www.kaggle.com/mlg-ulb/creditcardfraud) abordaremos el problema de fraudes con las tarjetas de crédito, situación que preocupa a las compañías financieras.\n",
        "# **Contexto**\n",
        "Es importante que las compañías de tarjetas de crédito puedan reconocer las transacciones fraudulentas de tarjetas de crédito para que no se cobre a los clientes por artículos que no compraron.\n",
        "\n",
        "<p align=center>\n",
        "<img src=\"https://www.consolidatedcredit.org/es/wp-content/uploads/2018/09/Fotolia_101260639_Subscription_Monthly_M-robo-de-identidad-768x537.jpg\" width=\"60%\"></p>\n",
        "\n",
        "# **Contenido**\n",
        "El conjunto de datos está desequilibrado y presenta transacciones que ocurrieron en dos días, donde tenemos *492 fraudes de 284.807 transacciones*.La clase positiva (fraudes) representa el  0,172% de **todas** las transacciones.\n",
        "Contiene sólo variables de entrada numéricas que son el resultado de una transformación [PCA](https://https://www.cienciadedatos.net/documentos/35_principal_component_analysis) (Análisis de componentes principales): Principal Component Analysis es un método estadístico que permite simplificar la complejidad de espacios muestrales con muchas dimensiones a la vez que conserva su información.\n",
        "\n",
        "\n",
        "Las características V1, V2,… V28 son los componentes principales obtenidos con PCA, las únicas características que no se han transformado con PCA son 'Tiempo' y 'Cantidad'. La característica 'Tiempo' contiene los segundos transcurridos entre cada transacción y la primera transacción en el conjunto de datos. La función 'Importe' es el Importe de la transacción, esta función se puede utilizar para el aprendizaje sensible al costo dependiente del ejemplo. **La característica 'Clase' es la variable de respuesta y toma el valor 1 en caso de fraude y 0 en caso contrario.**\n",
        "\n",
        "\n",
        "\n",
        "\n",
        "\n",
        "\n",
        "\n",
        "\n",
        "\n"
      ]
    },
    {
      "cell_type": "code",
      "metadata": {
        "id": "-bbLUEyviIvj"
      },
      "source": [
        "#@title\n",
        "# suprimir los warnings\n",
        "from warnings import simplefilter\n",
        "simplefilter(action='ignore', category=FutureWarning)\n",
        "\n",
        "# instalar a biblioteca scikit-plot\n",
        "!pip install -q scikit-plot"
      ],
      "execution_count": null,
      "outputs": []
    },
    {
      "cell_type": "code",
      "metadata": {
        "id": "2LfplfoRroKc"
      },
      "source": [
        "# importamos paquetes\n",
        "import pandas as pd\n",
        "import numpy as np\n",
        "import matplotlib.pyplot as plt\n",
        "import seaborn as sns\n",
        "import scikitplot as skplt\n",
        "%matplotlib inline\n",
        "from sklearn.model_selection import train_test_split\n",
        "from sklearn.preprocessing import StandardScaler\n",
        "from sklearn.linear_model import LogisticRegression\n",
        "from sklearn.metrics import classification_report\n",
        "from sklearn.metrics import roc_auc_score, roc_curve, accuracy_score\n",
        "\n",
        "from imblearn.under_sampling import RandomUnderSampler\n",
        "\n",
        "#estilo de los gráficos con Seaborn\n",
        "sns.set_style('dark')\n"
      ],
      "execution_count": null,
      "outputs": []
    },
    {
      "cell_type": "markdown",
      "metadata": {
        "id": "K223OsKuaaQ4"
      },
      "source": [
        "# Importar datos a Google Colaboratory"
      ]
    },
    {
      "cell_type": "code",
      "metadata": {
        "colab": {
          "base_uri": "https://localhost:8080/"
        },
        "id": "BJt6QslzRkaW",
        "outputId": "0f40af6a-e59c-41c1-c0d7-9c2d6895c0eb"
      },
      "source": [
        "from google.colab import drive \r\n",
        "drive.mount('/content/drive') "
      ],
      "execution_count": null,
      "outputs": [
        {
          "output_type": "stream",
          "text": [
            "Mounted at /content/drive\n"
          ],
          "name": "stdout"
        }
      ]
    },
    {
      "cell_type": "code",
      "metadata": {
        "colab": {
          "resources": {
            "http://localhost:8080/nbextensions/google.colab/files.js": {
              "data": "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",
              "ok": true,
              "headers": [
                [
                  "content-type",
                  "application/javascript"
                ]
              ],
              "status": 200,
              "status_text": ""
            }
          },
          "base_uri": "https://localhost:8080/",
          "height": 72
        },
        "id": "i4DvHRoh6fdX",
        "outputId": "32e68654-27f9-4b7c-8a8c-b2c08d6a408a"
      },
      "source": [
        "#desde un archivo local\n",
        "from google.colab import files\n",
        "uploaded = files.upload()"
      ],
      "execution_count": null,
      "outputs": [
        {
          "output_type": "display_data",
          "data": {
            "text/html": [
              "\n",
              "     <input type=\"file\" id=\"files-00fba0aa-9ca3-4a3f-ae28-04dcf2287739\" name=\"files[]\" multiple disabled\n",
              "        style=\"border:none\" />\n",
              "     <output id=\"result-00fba0aa-9ca3-4a3f-ae28-04dcf2287739\">\n",
              "      Upload widget is only available when the cell has been executed in the\n",
              "      current browser session. Please rerun this cell to enable.\n",
              "      </output>\n",
              "      <script src=\"/nbextensions/google.colab/files.js\"></script> "
            ],
            "text/plain": [
              "<IPython.core.display.HTML object>"
            ]
          },
          "metadata": {
            "tags": []
          }
        },
        {
          "output_type": "stream",
          "text": [
            "Saving creditcard.csv to creditcard.csv\n"
          ],
          "name": "stdout"
        }
      ]
    },
    {
      "cell_type": "code",
      "metadata": {
        "id": "jP3Pv8F9THK4"
      },
      "source": [
        "from google.colab import drive\n",
        "drive.mount('/content/drive')"
      ],
      "execution_count": null,
      "outputs": []
    },
    {
      "cell_type": "code",
      "metadata": {
        "colab": {
          "base_uri": "https://localhost:8080/"
        },
        "id": "xVixp8ibYdmN",
        "outputId": "d6c40ec5-eedf-4c4c-dc7f-b94cc127f037"
      },
      "source": [
        "!pwd"
      ],
      "execution_count": null,
      "outputs": [
        {
          "output_type": "stream",
          "text": [
            "/content\n"
          ],
          "name": "stdout"
        }
      ]
    },
    {
      "cell_type": "code",
      "metadata": {
        "id": "6PqFwcauuUgA"
      },
      "source": [
        "#Importamos los datos a un dataframes\n",
        "df_cards= pd.read_csv('/content/creditcard.csv')"
      ],
      "execution_count": null,
      "outputs": []
    },
    {
      "cell_type": "markdown",
      "metadata": {
        "id": "HLZJlyMhZ3Ym"
      },
      "source": [
        "# **EDA**\r\n",
        "\r\n",
        "Las primeras filas nos permite entender que con la transformación PCA dejó las features descaracterizada(anónimas) y con valores sólo numéricos.\r\n",
        "Las columnas 'Times' y 'Amount' seran reservadas manteniendo su valor original\r\n",
        "La variable objetivo está representada en la columna 'Class'.\r\n",
        "* 0: Transacción normal\r\n",
        "* 1: Transacción fraudulenta"
      ]
    },
    {
      "cell_type": "code",
      "metadata": {
        "colab": {
          "base_uri": "https://localhost:8080/",
          "height": 162
        },
        "id": "KfJPCbSEaIdq",
        "outputId": "e0dc3304-153c-4b59-8fef-022479819b8a"
      },
      "source": [
        "df_cards.head(3)"
      ],
      "execution_count": null,
      "outputs": [
        {
          "output_type": "execute_result",
          "data": {
            "text/html": [
              "<div>\n",
              "<style scoped>\n",
              "    .dataframe tbody tr th:only-of-type {\n",
              "        vertical-align: middle;\n",
              "    }\n",
              "\n",
              "    .dataframe tbody tr th {\n",
              "        vertical-align: top;\n",
              "    }\n",
              "\n",
              "    .dataframe thead th {\n",
              "        text-align: right;\n",
              "    }\n",
              "</style>\n",
              "<table border=\"1\" class=\"dataframe\">\n",
              "  <thead>\n",
              "    <tr style=\"text-align: right;\">\n",
              "      <th></th>\n",
              "      <th>Time</th>\n",
              "      <th>V1</th>\n",
              "      <th>V2</th>\n",
              "      <th>V3</th>\n",
              "      <th>V4</th>\n",
              "      <th>V5</th>\n",
              "      <th>V6</th>\n",
              "      <th>V7</th>\n",
              "      <th>V8</th>\n",
              "      <th>V9</th>\n",
              "      <th>V10</th>\n",
              "      <th>V11</th>\n",
              "      <th>V12</th>\n",
              "      <th>V13</th>\n",
              "      <th>V14</th>\n",
              "      <th>V15</th>\n",
              "      <th>V16</th>\n",
              "      <th>V17</th>\n",
              "      <th>V18</th>\n",
              "      <th>V19</th>\n",
              "      <th>V20</th>\n",
              "      <th>V21</th>\n",
              "      <th>V22</th>\n",
              "      <th>V23</th>\n",
              "      <th>V24</th>\n",
              "      <th>V25</th>\n",
              "      <th>V26</th>\n",
              "      <th>V27</th>\n",
              "      <th>V28</th>\n",
              "      <th>Amount</th>\n",
              "      <th>Class</th>\n",
              "    </tr>\n",
              "  </thead>\n",
              "  <tbody>\n",
              "    <tr>\n",
              "      <th>0</th>\n",
              "      <td>0.0</td>\n",
              "      <td>-1.359807</td>\n",
              "      <td>-0.072781</td>\n",
              "      <td>2.536347</td>\n",
              "      <td>1.378155</td>\n",
              "      <td>-0.338321</td>\n",
              "      <td>0.462388</td>\n",
              "      <td>0.239599</td>\n",
              "      <td>0.098698</td>\n",
              "      <td>0.363787</td>\n",
              "      <td>0.090794</td>\n",
              "      <td>-0.551600</td>\n",
              "      <td>-0.617801</td>\n",
              "      <td>-0.991390</td>\n",
              "      <td>-0.311169</td>\n",
              "      <td>1.468177</td>\n",
              "      <td>-0.470401</td>\n",
              "      <td>0.207971</td>\n",
              "      <td>0.025791</td>\n",
              "      <td>0.403993</td>\n",
              "      <td>0.251412</td>\n",
              "      <td>-0.018307</td>\n",
              "      <td>0.277838</td>\n",
              "      <td>-0.110474</td>\n",
              "      <td>0.066928</td>\n",
              "      <td>0.128539</td>\n",
              "      <td>-0.189115</td>\n",
              "      <td>0.133558</td>\n",
              "      <td>-0.021053</td>\n",
              "      <td>149.62</td>\n",
              "      <td>0</td>\n",
              "    </tr>\n",
              "    <tr>\n",
              "      <th>1</th>\n",
              "      <td>0.0</td>\n",
              "      <td>1.191857</td>\n",
              "      <td>0.266151</td>\n",
              "      <td>0.166480</td>\n",
              "      <td>0.448154</td>\n",
              "      <td>0.060018</td>\n",
              "      <td>-0.082361</td>\n",
              "      <td>-0.078803</td>\n",
              "      <td>0.085102</td>\n",
              "      <td>-0.255425</td>\n",
              "      <td>-0.166974</td>\n",
              "      <td>1.612727</td>\n",
              "      <td>1.065235</td>\n",
              "      <td>0.489095</td>\n",
              "      <td>-0.143772</td>\n",
              "      <td>0.635558</td>\n",
              "      <td>0.463917</td>\n",
              "      <td>-0.114805</td>\n",
              "      <td>-0.183361</td>\n",
              "      <td>-0.145783</td>\n",
              "      <td>-0.069083</td>\n",
              "      <td>-0.225775</td>\n",
              "      <td>-0.638672</td>\n",
              "      <td>0.101288</td>\n",
              "      <td>-0.339846</td>\n",
              "      <td>0.167170</td>\n",
              "      <td>0.125895</td>\n",
              "      <td>-0.008983</td>\n",
              "      <td>0.014724</td>\n",
              "      <td>2.69</td>\n",
              "      <td>0</td>\n",
              "    </tr>\n",
              "    <tr>\n",
              "      <th>2</th>\n",
              "      <td>1.0</td>\n",
              "      <td>-1.358354</td>\n",
              "      <td>-1.340163</td>\n",
              "      <td>1.773209</td>\n",
              "      <td>0.379780</td>\n",
              "      <td>-0.503198</td>\n",
              "      <td>1.800499</td>\n",
              "      <td>0.791461</td>\n",
              "      <td>0.247676</td>\n",
              "      <td>-1.514654</td>\n",
              "      <td>0.207643</td>\n",
              "      <td>0.624501</td>\n",
              "      <td>0.066084</td>\n",
              "      <td>0.717293</td>\n",
              "      <td>-0.165946</td>\n",
              "      <td>2.345865</td>\n",
              "      <td>-2.890083</td>\n",
              "      <td>1.109969</td>\n",
              "      <td>-0.121359</td>\n",
              "      <td>-2.261857</td>\n",
              "      <td>0.524980</td>\n",
              "      <td>0.247998</td>\n",
              "      <td>0.771679</td>\n",
              "      <td>0.909412</td>\n",
              "      <td>-0.689281</td>\n",
              "      <td>-0.327642</td>\n",
              "      <td>-0.139097</td>\n",
              "      <td>-0.055353</td>\n",
              "      <td>-0.059752</td>\n",
              "      <td>378.66</td>\n",
              "      <td>0</td>\n",
              "    </tr>\n",
              "  </tbody>\n",
              "</table>\n",
              "</div>"
            ],
            "text/plain": [
              "   Time        V1        V2        V3  ...       V27       V28  Amount  Class\n",
              "0   0.0 -1.359807 -0.072781  2.536347  ...  0.133558 -0.021053  149.62      0\n",
              "1   0.0  1.191857  0.266151  0.166480  ... -0.008983  0.014724    2.69      0\n",
              "2   1.0 -1.358354 -1.340163  1.773209  ... -0.055353 -0.059752  378.66      0\n",
              "\n",
              "[3 rows x 31 columns]"
            ]
          },
          "metadata": {
            "tags": []
          },
          "execution_count": 9
        }
      ]
    },
    {
      "cell_type": "code",
      "metadata": {
        "colab": {
          "base_uri": "https://localhost:8080/",
          "height": 317
        },
        "id": "DfueltRzbCTT",
        "outputId": "48282cbc-71ec-40ae-9b8a-2b4d4a728d89"
      },
      "source": [
        "df_cards.describe()"
      ],
      "execution_count": null,
      "outputs": [
        {
          "output_type": "execute_result",
          "data": {
            "text/html": [
              "<div>\n",
              "<style scoped>\n",
              "    .dataframe tbody tr th:only-of-type {\n",
              "        vertical-align: middle;\n",
              "    }\n",
              "\n",
              "    .dataframe tbody tr th {\n",
              "        vertical-align: top;\n",
              "    }\n",
              "\n",
              "    .dataframe thead th {\n",
              "        text-align: right;\n",
              "    }\n",
              "</style>\n",
              "<table border=\"1\" class=\"dataframe\">\n",
              "  <thead>\n",
              "    <tr style=\"text-align: right;\">\n",
              "      <th></th>\n",
              "      <th>Time</th>\n",
              "      <th>V1</th>\n",
              "      <th>V2</th>\n",
              "      <th>V3</th>\n",
              "      <th>V4</th>\n",
              "      <th>V5</th>\n",
              "      <th>V6</th>\n",
              "      <th>V7</th>\n",
              "      <th>V8</th>\n",
              "      <th>V9</th>\n",
              "      <th>V10</th>\n",
              "      <th>V11</th>\n",
              "      <th>V12</th>\n",
              "      <th>V13</th>\n",
              "      <th>V14</th>\n",
              "      <th>V15</th>\n",
              "      <th>V16</th>\n",
              "      <th>V17</th>\n",
              "      <th>V18</th>\n",
              "      <th>V19</th>\n",
              "      <th>V20</th>\n",
              "      <th>V21</th>\n",
              "      <th>V22</th>\n",
              "      <th>V23</th>\n",
              "      <th>V24</th>\n",
              "      <th>V25</th>\n",
              "      <th>V26</th>\n",
              "      <th>V27</th>\n",
              "      <th>V28</th>\n",
              "      <th>Amount</th>\n",
              "      <th>Class</th>\n",
              "    </tr>\n",
              "  </thead>\n",
              "  <tbody>\n",
              "    <tr>\n",
              "      <th>count</th>\n",
              "      <td>284807.000000</td>\n",
              "      <td>2.848070e+05</td>\n",
              "      <td>2.848070e+05</td>\n",
              "      <td>2.848070e+05</td>\n",
              "      <td>2.848070e+05</td>\n",
              "      <td>2.848070e+05</td>\n",
              "      <td>2.848070e+05</td>\n",
              "      <td>2.848070e+05</td>\n",
              "      <td>2.848070e+05</td>\n",
              "      <td>2.848070e+05</td>\n",
              "      <td>2.848070e+05</td>\n",
              "      <td>2.848070e+05</td>\n",
              "      <td>2.848070e+05</td>\n",
              "      <td>2.848070e+05</td>\n",
              "      <td>2.848070e+05</td>\n",
              "      <td>2.848070e+05</td>\n",
              "      <td>2.848070e+05</td>\n",
              "      <td>2.848070e+05</td>\n",
              "      <td>2.848070e+05</td>\n",
              "      <td>2.848070e+05</td>\n",
              "      <td>2.848070e+05</td>\n",
              "      <td>2.848070e+05</td>\n",
              "      <td>2.848070e+05</td>\n",
              "      <td>2.848070e+05</td>\n",
              "      <td>2.848070e+05</td>\n",
              "      <td>2.848070e+05</td>\n",
              "      <td>2.848070e+05</td>\n",
              "      <td>2.848070e+05</td>\n",
              "      <td>2.848070e+05</td>\n",
              "      <td>284807.000000</td>\n",
              "      <td>284807.000000</td>\n",
              "    </tr>\n",
              "    <tr>\n",
              "      <th>mean</th>\n",
              "      <td>94813.859575</td>\n",
              "      <td>3.919560e-15</td>\n",
              "      <td>5.688174e-16</td>\n",
              "      <td>-8.769071e-15</td>\n",
              "      <td>2.782312e-15</td>\n",
              "      <td>-1.552563e-15</td>\n",
              "      <td>2.010663e-15</td>\n",
              "      <td>-1.694249e-15</td>\n",
              "      <td>-1.927028e-16</td>\n",
              "      <td>-3.137024e-15</td>\n",
              "      <td>1.768627e-15</td>\n",
              "      <td>9.170318e-16</td>\n",
              "      <td>-1.810658e-15</td>\n",
              "      <td>1.693438e-15</td>\n",
              "      <td>1.479045e-15</td>\n",
              "      <td>3.482336e-15</td>\n",
              "      <td>1.392007e-15</td>\n",
              "      <td>-7.528491e-16</td>\n",
              "      <td>4.328772e-16</td>\n",
              "      <td>9.049732e-16</td>\n",
              "      <td>5.085503e-16</td>\n",
              "      <td>1.537294e-16</td>\n",
              "      <td>7.959909e-16</td>\n",
              "      <td>5.367590e-16</td>\n",
              "      <td>4.458112e-15</td>\n",
              "      <td>1.453003e-15</td>\n",
              "      <td>1.699104e-15</td>\n",
              "      <td>-3.660161e-16</td>\n",
              "      <td>-1.206049e-16</td>\n",
              "      <td>88.349619</td>\n",
              "      <td>0.001727</td>\n",
              "    </tr>\n",
              "    <tr>\n",
              "      <th>std</th>\n",
              "      <td>47488.145955</td>\n",
              "      <td>1.958696e+00</td>\n",
              "      <td>1.651309e+00</td>\n",
              "      <td>1.516255e+00</td>\n",
              "      <td>1.415869e+00</td>\n",
              "      <td>1.380247e+00</td>\n",
              "      <td>1.332271e+00</td>\n",
              "      <td>1.237094e+00</td>\n",
              "      <td>1.194353e+00</td>\n",
              "      <td>1.098632e+00</td>\n",
              "      <td>1.088850e+00</td>\n",
              "      <td>1.020713e+00</td>\n",
              "      <td>9.992014e-01</td>\n",
              "      <td>9.952742e-01</td>\n",
              "      <td>9.585956e-01</td>\n",
              "      <td>9.153160e-01</td>\n",
              "      <td>8.762529e-01</td>\n",
              "      <td>8.493371e-01</td>\n",
              "      <td>8.381762e-01</td>\n",
              "      <td>8.140405e-01</td>\n",
              "      <td>7.709250e-01</td>\n",
              "      <td>7.345240e-01</td>\n",
              "      <td>7.257016e-01</td>\n",
              "      <td>6.244603e-01</td>\n",
              "      <td>6.056471e-01</td>\n",
              "      <td>5.212781e-01</td>\n",
              "      <td>4.822270e-01</td>\n",
              "      <td>4.036325e-01</td>\n",
              "      <td>3.300833e-01</td>\n",
              "      <td>250.120109</td>\n",
              "      <td>0.041527</td>\n",
              "    </tr>\n",
              "    <tr>\n",
              "      <th>min</th>\n",
              "      <td>0.000000</td>\n",
              "      <td>-5.640751e+01</td>\n",
              "      <td>-7.271573e+01</td>\n",
              "      <td>-4.832559e+01</td>\n",
              "      <td>-5.683171e+00</td>\n",
              "      <td>-1.137433e+02</td>\n",
              "      <td>-2.616051e+01</td>\n",
              "      <td>-4.355724e+01</td>\n",
              "      <td>-7.321672e+01</td>\n",
              "      <td>-1.343407e+01</td>\n",
              "      <td>-2.458826e+01</td>\n",
              "      <td>-4.797473e+00</td>\n",
              "      <td>-1.868371e+01</td>\n",
              "      <td>-5.791881e+00</td>\n",
              "      <td>-1.921433e+01</td>\n",
              "      <td>-4.498945e+00</td>\n",
              "      <td>-1.412985e+01</td>\n",
              "      <td>-2.516280e+01</td>\n",
              "      <td>-9.498746e+00</td>\n",
              "      <td>-7.213527e+00</td>\n",
              "      <td>-5.449772e+01</td>\n",
              "      <td>-3.483038e+01</td>\n",
              "      <td>-1.093314e+01</td>\n",
              "      <td>-4.480774e+01</td>\n",
              "      <td>-2.836627e+00</td>\n",
              "      <td>-1.029540e+01</td>\n",
              "      <td>-2.604551e+00</td>\n",
              "      <td>-2.256568e+01</td>\n",
              "      <td>-1.543008e+01</td>\n",
              "      <td>0.000000</td>\n",
              "      <td>0.000000</td>\n",
              "    </tr>\n",
              "    <tr>\n",
              "      <th>25%</th>\n",
              "      <td>54201.500000</td>\n",
              "      <td>-9.203734e-01</td>\n",
              "      <td>-5.985499e-01</td>\n",
              "      <td>-8.903648e-01</td>\n",
              "      <td>-8.486401e-01</td>\n",
              "      <td>-6.915971e-01</td>\n",
              "      <td>-7.682956e-01</td>\n",
              "      <td>-5.540759e-01</td>\n",
              "      <td>-2.086297e-01</td>\n",
              "      <td>-6.430976e-01</td>\n",
              "      <td>-5.354257e-01</td>\n",
              "      <td>-7.624942e-01</td>\n",
              "      <td>-4.055715e-01</td>\n",
              "      <td>-6.485393e-01</td>\n",
              "      <td>-4.255740e-01</td>\n",
              "      <td>-5.828843e-01</td>\n",
              "      <td>-4.680368e-01</td>\n",
              "      <td>-4.837483e-01</td>\n",
              "      <td>-4.988498e-01</td>\n",
              "      <td>-4.562989e-01</td>\n",
              "      <td>-2.117214e-01</td>\n",
              "      <td>-2.283949e-01</td>\n",
              "      <td>-5.423504e-01</td>\n",
              "      <td>-1.618463e-01</td>\n",
              "      <td>-3.545861e-01</td>\n",
              "      <td>-3.171451e-01</td>\n",
              "      <td>-3.269839e-01</td>\n",
              "      <td>-7.083953e-02</td>\n",
              "      <td>-5.295979e-02</td>\n",
              "      <td>5.600000</td>\n",
              "      <td>0.000000</td>\n",
              "    </tr>\n",
              "    <tr>\n",
              "      <th>50%</th>\n",
              "      <td>84692.000000</td>\n",
              "      <td>1.810880e-02</td>\n",
              "      <td>6.548556e-02</td>\n",
              "      <td>1.798463e-01</td>\n",
              "      <td>-1.984653e-02</td>\n",
              "      <td>-5.433583e-02</td>\n",
              "      <td>-2.741871e-01</td>\n",
              "      <td>4.010308e-02</td>\n",
              "      <td>2.235804e-02</td>\n",
              "      <td>-5.142873e-02</td>\n",
              "      <td>-9.291738e-02</td>\n",
              "      <td>-3.275735e-02</td>\n",
              "      <td>1.400326e-01</td>\n",
              "      <td>-1.356806e-02</td>\n",
              "      <td>5.060132e-02</td>\n",
              "      <td>4.807155e-02</td>\n",
              "      <td>6.641332e-02</td>\n",
              "      <td>-6.567575e-02</td>\n",
              "      <td>-3.636312e-03</td>\n",
              "      <td>3.734823e-03</td>\n",
              "      <td>-6.248109e-02</td>\n",
              "      <td>-2.945017e-02</td>\n",
              "      <td>6.781943e-03</td>\n",
              "      <td>-1.119293e-02</td>\n",
              "      <td>4.097606e-02</td>\n",
              "      <td>1.659350e-02</td>\n",
              "      <td>-5.213911e-02</td>\n",
              "      <td>1.342146e-03</td>\n",
              "      <td>1.124383e-02</td>\n",
              "      <td>22.000000</td>\n",
              "      <td>0.000000</td>\n",
              "    </tr>\n",
              "    <tr>\n",
              "      <th>75%</th>\n",
              "      <td>139320.500000</td>\n",
              "      <td>1.315642e+00</td>\n",
              "      <td>8.037239e-01</td>\n",
              "      <td>1.027196e+00</td>\n",
              "      <td>7.433413e-01</td>\n",
              "      <td>6.119264e-01</td>\n",
              "      <td>3.985649e-01</td>\n",
              "      <td>5.704361e-01</td>\n",
              "      <td>3.273459e-01</td>\n",
              "      <td>5.971390e-01</td>\n",
              "      <td>4.539234e-01</td>\n",
              "      <td>7.395934e-01</td>\n",
              "      <td>6.182380e-01</td>\n",
              "      <td>6.625050e-01</td>\n",
              "      <td>4.931498e-01</td>\n",
              "      <td>6.488208e-01</td>\n",
              "      <td>5.232963e-01</td>\n",
              "      <td>3.996750e-01</td>\n",
              "      <td>5.008067e-01</td>\n",
              "      <td>4.589494e-01</td>\n",
              "      <td>1.330408e-01</td>\n",
              "      <td>1.863772e-01</td>\n",
              "      <td>5.285536e-01</td>\n",
              "      <td>1.476421e-01</td>\n",
              "      <td>4.395266e-01</td>\n",
              "      <td>3.507156e-01</td>\n",
              "      <td>2.409522e-01</td>\n",
              "      <td>9.104512e-02</td>\n",
              "      <td>7.827995e-02</td>\n",
              "      <td>77.165000</td>\n",
              "      <td>0.000000</td>\n",
              "    </tr>\n",
              "    <tr>\n",
              "      <th>max</th>\n",
              "      <td>172792.000000</td>\n",
              "      <td>2.454930e+00</td>\n",
              "      <td>2.205773e+01</td>\n",
              "      <td>9.382558e+00</td>\n",
              "      <td>1.687534e+01</td>\n",
              "      <td>3.480167e+01</td>\n",
              "      <td>7.330163e+01</td>\n",
              "      <td>1.205895e+02</td>\n",
              "      <td>2.000721e+01</td>\n",
              "      <td>1.559499e+01</td>\n",
              "      <td>2.374514e+01</td>\n",
              "      <td>1.201891e+01</td>\n",
              "      <td>7.848392e+00</td>\n",
              "      <td>7.126883e+00</td>\n",
              "      <td>1.052677e+01</td>\n",
              "      <td>8.877742e+00</td>\n",
              "      <td>1.731511e+01</td>\n",
              "      <td>9.253526e+00</td>\n",
              "      <td>5.041069e+00</td>\n",
              "      <td>5.591971e+00</td>\n",
              "      <td>3.942090e+01</td>\n",
              "      <td>2.720284e+01</td>\n",
              "      <td>1.050309e+01</td>\n",
              "      <td>2.252841e+01</td>\n",
              "      <td>4.584549e+00</td>\n",
              "      <td>7.519589e+00</td>\n",
              "      <td>3.517346e+00</td>\n",
              "      <td>3.161220e+01</td>\n",
              "      <td>3.384781e+01</td>\n",
              "      <td>25691.160000</td>\n",
              "      <td>1.000000</td>\n",
              "    </tr>\n",
              "  </tbody>\n",
              "</table>\n",
              "</div>"
            ],
            "text/plain": [
              "                Time            V1  ...         Amount          Class\n",
              "count  284807.000000  2.848070e+05  ...  284807.000000  284807.000000\n",
              "mean    94813.859575  3.919560e-15  ...      88.349619       0.001727\n",
              "std     47488.145955  1.958696e+00  ...     250.120109       0.041527\n",
              "min         0.000000 -5.640751e+01  ...       0.000000       0.000000\n",
              "25%     54201.500000 -9.203734e-01  ...       5.600000       0.000000\n",
              "50%     84692.000000  1.810880e-02  ...      22.000000       0.000000\n",
              "75%    139320.500000  1.315642e+00  ...      77.165000       0.000000\n",
              "max    172792.000000  2.454930e+00  ...   25691.160000       1.000000\n",
              "\n",
              "[8 rows x 31 columns]"
            ]
          },
          "metadata": {
            "tags": []
          },
          "execution_count": 15
        }
      ]
    },
    {
      "cell_type": "markdown",
      "metadata": {
        "id": "1W4cpK8obDdo"
      },
      "source": [
        "Verificando el resumen estadístico a continuación, utilizando el método describe (), podemos confirmar que las variables relacionadas con los componentes principales (transformación PCA) no tienen discrepancia aparente, al igual que la columna Tiempo.\r\n",
        "\r\n",
        "En cuanto a la variable Amount(monto&, se observa que el valor promedio de las transacciones (considerando ambas clases 0,1) es 88.34, mediana igual a 22.00 y desviación estándar de 250.12.  \r\n",
        "Al alcanzar el monto máximo de 25691.16, la mayoría de las transacciones financieras se componen principalmente de montos más pequeños, como se esperaba."
      ]
    },
    {
      "cell_type": "code",
      "metadata": {
        "id": "QyZEsqSpbrE9"
      },
      "source": [
        ""
      ],
      "execution_count": null,
      "outputs": []
    },
    {
      "cell_type": "markdown",
      "metadata": {
        "id": "JrhSR21ob55w"
      },
      "source": [
        "**Tenemos valores nulos?**"
      ]
    },
    {
      "cell_type": "code",
      "metadata": {
        "colab": {
          "base_uri": "https://localhost:8080/"
        },
        "id": "dzX6xU4UcAeg",
        "outputId": "06b37589-2557-4857-aca7-7de41b80cfc2"
      },
      "source": [
        "df_cards.isnull().sum().max()"
      ],
      "execution_count": null,
      "outputs": [
        {
          "output_type": "execute_result",
          "data": {
            "text/plain": [
              "0"
            ]
          },
          "metadata": {
            "tags": []
          },
          "execution_count": 17
        }
      ]
    },
    {
      "cell_type": "code",
      "metadata": {
        "id": "tZsDWygCcHm6"
      },
      "source": [
        ""
      ],
      "execution_count": null,
      "outputs": []
    },
    {
      "cell_type": "markdown",
      "metadata": {
        "id": "f76YnYRTdetw"
      },
      "source": [
        "Como se indica en la descripción de los datos, las entradas por transacciones fraudulentas corresponden al 0,17% del total.\r\n",
        "\r\n",
        "El gráfico de barras muestra cómo esta discrepancia se vuelve visible. En la práctica, esto interfiere con el rendimiento del modelo y será necesario equilibrar los datos antes de alimentar el modelo de clasificación final."
      ]
    },
    {
      "cell_type": "code",
      "metadata": {
        "colab": {
          "base_uri": "https://localhost:8080/"
        },
        "id": "-nPBg_esedkx",
        "outputId": "5a5a8c0c-7bf6-48a8-b776-1fb803b22a7c"
      },
      "source": [
        "#Corroboramos el %de fraudes\r\n",
        "print(df_cards.Class.value_counts())\r\n",
        "print(\"\\nFraudes representan {:.4f}% del dataset.\\n\".format((df_cards[df_cards.Class == 1].shape[0] / df_cards.shape[0]) * 100))\r\n"
      ],
      "execution_count": null,
      "outputs": [
        {
          "output_type": "stream",
          "text": [
            "0    284315\n",
            "1       492\n",
            "Name: Class, dtype: int64\n",
            "\n",
            "Fraudes representan 0.1727% del dataset.\n",
            "\n"
          ],
          "name": "stdout"
        }
      ]
    },
    {
      "cell_type": "code",
      "metadata": {
        "colab": {
          "base_uri": "https://localhost:8080/",
          "height": 312
        },
        "id": "FLtMvvhcfNgd",
        "outputId": "1066bcc7-f400-45fd-abaa-d4584c57c52f"
      },
      "source": [
        "#Gráfico de barras par las clases\r\n",
        "fig, ax = plt.subplots()\r\n",
        "sns.countplot('Class', data=df_cards, ax=ax)\r\n",
        "ax.set_title('Distribución de la clase')\r\n",
        "plt.plot()"
      ],
      "execution_count": null,
      "outputs": [
        {
          "output_type": "execute_result",
          "data": {
            "text/plain": [
              "[]"
            ]
          },
          "metadata": {
            "tags": []
          },
          "execution_count": 11
        },
        {
          "output_type": "display_data",
          "data": {
            "image/png": "[encoded data removed]",
            "text/plain": [
              "<Figure size 432x288 with 1 Axes>"
            ]
          },
          "metadata": {
            "tags": []
          }
        }
      ]
    },
    {
      "cell_type": "code",
      "metadata": {
        "id": "c-7nfqDLf4dI"
      },
      "source": [
        ""
      ],
      "execution_count": null,
      "outputs": []
    },
    {
      "cell_type": "markdown",
      "metadata": {
        "id": "D2oW_5nAgHrC"
      },
      "source": [
        "La distribución de las 2 clases a lo largo del tiempo"
      ]
    },
    {
      "cell_type": "code",
      "metadata": {
        "colab": {
          "base_uri": "https://localhost:8080/",
          "height": 441
        },
        "id": "2AF0XcYzkra5",
        "outputId": "df70ecdc-072c-4c53-bb73-21c9ab030215"
      },
      "source": [
        "fig, ax = plt.subplots(nrows=2, ncols=1, figsize=(12,6))\r\n",
        "\r\n",
        "num_bins = 40\r\n",
        "\r\n",
        "ax[0].hist(df_cards.Time[df_cards.Class == 0], bins=num_bins)\r\n",
        "ax[0].set_title('Normal')\r\n",
        "\r\n",
        "ax[1].hist(df_cards.Time[df_cards.Class == 1], bins=num_bins)\r\n",
        "ax[1].set_title('Fraudes')\r\n",
        "\r\n",
        "plt.xlabel('Tiempo (segundos)')\r\n",
        "plt.ylabel('Transacciones')\r\n",
        "plt.tight_layout()"
      ],
      "execution_count": null,
      "outputs": [
        {
          "output_type": "display_data",
          "data": {
            "image/png": "[encoded data removed]",
            "text/plain": [
              "<Figure size 864x432 with 2 Axes>"
            ]
          },
          "metadata": {
            "tags": []
          }
        }
      ]
    },
    {
      "cell_type": "code",
      "metadata": {
        "id": "mSwD10-alQpU"
      },
      "source": [
        ""
      ],
      "execution_count": null,
      "outputs": []
    },
    {
      "cell_type": "code",
      "metadata": {
        "colab": {
          "base_uri": "https://localhost:8080/",
          "height": 729
        },
        "id": "eK5GIN6jSDdZ",
        "outputId": "339dcdf3-2ff7-45cd-d2c2-01706ba4baf8"
      },
      "source": [
        "fig, ax = plt.subplots(figsize=(6,10), sharex=True)\r\n",
        "\r\n",
        "sns.boxplot(df_cards.Class, df_cards.Amount, showmeans=True, ax=ax)\r\n",
        "plt.ylim((-20, 400))\r\n",
        "plt.xticks([0, 1], ['Normal', 'Fraude'])\r\n",
        "\r\n",
        "plt.tight_layout()"
      ],
      "execution_count": null,
      "outputs": [
        {
          "output_type": "display_data",
          "data": {
            "image/png": "[encoded data removed]",
            "text/plain": [
              "<Figure size 432x720 with 1 Axes>"
            ]
          },
          "metadata": {
            "tags": []
          }
        }
      ]
    },
    {
      "cell_type": "code",
      "metadata": {
        "colab": {
          "base_uri": "https://localhost:8080/"
        },
        "id": "DMzDq3x9SPOQ",
        "outputId": "3ad34f55-9454-4d9e-f6dc-be4f8f49cc4b"
      },
      "source": [
        "df_cards[(df_cards.Class == 1) & (df_cards.Amount < 2000)]['Amount'].describe()"
      ],
      "execution_count": null,
      "outputs": [
        {
          "output_type": "execute_result",
          "data": {
            "text/plain": [
              "count     491.000000\n",
              "mean      118.130550\n",
              "std       240.439028\n",
              "min         0.000000\n",
              "25%         1.000000\n",
              "50%         9.210000\n",
              "75%       105.350000\n",
              "max      1809.680000\n",
              "Name: Amount, dtype: float64"
            ]
          },
          "metadata": {
            "tags": []
          },
          "execution_count": 14
        }
      ]
    },
    {
      "cell_type": "markdown",
      "metadata": {
        "id": "Z1RSzQ25ceLp"
      },
      "source": [
        "La información estadística para df.Class == 1 muestra que su promedio exacto está en 118.13 y la mediana en 9.21."
      ]
    },
    {
      "cell_type": "code",
      "metadata": {
        "id": "F1ZuziH_cg7H"
      },
      "source": [
        ""
      ],
      "execution_count": null,
      "outputs": []
    },
    {
      "cell_type": "markdown",
      "metadata": {
        "id": "6XNDKcTVc96L"
      },
      "source": [
        "\r\n",
        "El gráfico de densidad es muy útil para comparar las distribuciones de cada variable para cada clase y ver cuáles son más importantes para la detección de anomalías.\r\n",
        "Lo que se busca en este tipo de visualización son distribuciones que se diferencian entre sí, permitiendo identificar más fácilmente el fraude. Ejemplos como las variables V3, V4, V10 y V11, ya que son muy diferentes.\r\n",
        "Mientras que las variables V8, V13 y V15 son muy similares, presentando aproximadamente el mismo comportamiento."
      ]
    },
    {
      "cell_type": "code",
      "metadata": {
        "colab": {
          "base_uri": "https://localhost:8080/",
          "height": 964
        },
        "id": "kdYCJxJxdoZ5",
        "outputId": "a87a9353-1a4c-4b34-95ae-b2037e7ef6c3"
      },
      "source": [
        "column_names = df_cards.drop(['Class', 'Amount', 'Time'], axis=1).columns\r\n",
        "num_plots = len(column_names)\r\n",
        "df_class_0 = df_cards[df_cards.Class == 0]\r\n",
        "df_class_1 = df_cards[df_cards.Class == 1]\r\n",
        "\r\n",
        "fig, ax = plt.subplots(nrows=7, ncols=4, figsize=(18,18))\r\n",
        "fig.subplots_adjust(hspace=1, wspace=1)\r\n",
        "\r\n",
        "idx = 0\r\n",
        "for col in column_names:\r\n",
        "    idx += 1\r\n",
        "    plt.subplot(7, 4, idx)\r\n",
        "    sns.kdeplot(df_class_0[col], label=\"Class 0\", shade=True)\r\n",
        "    sns.kdeplot(df_class_1[col], label=\"Class 1\", shade=True)\r\n",
        "    plt.title(col, fontsize=10)\r\n",
        "plt.tight_layout()\r\n"
      ],
      "execution_count": null,
      "outputs": [
        {
          "output_type": "display_data",
          "data": {
            "image/png": "[encoded data removed]",
            "text/plain": [
              "<Figure size 1296x1296 with 28 Axes>"
            ]
          },
          "metadata": {
            "tags": []
          }
        }
      ]
    },
    {
      "cell_type": "code",
      "metadata": {
        "id": "oYb4S03neYg6"
      },
      "source": [
        ""
      ],
      "execution_count": null,
      "outputs": []
    },
    {
      "cell_type": "markdown",
      "metadata": {
        "id": "aS3U1nIHfELT"
      },
      "source": [
        "**Observaciones:**\r\n",
        "* \r\n",
        "El conjunto de datos está muy desequilibrado, ya que las transacciones fraudulentas representan solo el 0,17% del total de entradas.\r\n",
        "* No hay valores faltantes o nulos en el marco de datos.\r\n",
        "* \r\n",
        "Dado que el PCA es sensible a la escala de las variables, se asume que las columnas originales fueron estandarizada.\r\n",
        "* Las columnas Time e Amount no están normalizadas."
      ]
    },
    {
      "cell_type": "code",
      "metadata": {
        "id": "lzeIToFngS_K"
      },
      "source": [
        ""
      ],
      "execution_count": null,
      "outputs": []
    },
    {
      "cell_type": "markdown",
      "metadata": {
        "id": "olAn35FygUK2"
      },
      "source": [
        "**Preparando el conjunto de datos**\r\n",
        "* Vamos a construir un modelo de regresión logistica\r\n",
        "* \r\n",
        "Estandarizar las features Time y Amount, que están en otro orden de magnitud.\r\n",
        "* Dividir los datos en train y test.\r\n",
        "* \r\n",
        "Equilibre los datos para evitar un rendimiento deficiente para la clase 1 y el overfitting."
      ]
    },
    {
      "cell_type": "code",
      "metadata": {
        "id": "tVHW7HuAhEN7"
      },
      "source": [
        ""
      ],
      "execution_count": null,
      "outputs": []
    },
    {
      "cell_type": "markdown",
      "metadata": {
        "id": "V2XJjpdEho72"
      },
      "source": [
        "**Estandarizar las features Time y Amount**"
      ]
    },
    {
      "cell_type": "code",
      "metadata": {
        "colab": {
          "base_uri": "https://localhost:8080/",
          "height": 224
        },
        "id": "7jTRJU1jhu2k",
        "outputId": "7627ac77-f0e2-4ea3-a3a5-3c3448d87361"
      },
      "source": [
        "df_clean = df_cards.copy()\r\n",
        "\r\n",
        "std_scaler = StandardScaler()\r\n",
        "df_clean['std_amount'] = std_scaler.fit_transform(df_clean['Amount'].values.reshape(-1, 1))\r\n",
        "df_clean['std_time'] = std_scaler.fit_transform(df_clean['Time'].values.reshape(-1, 1))\r\n",
        "\r\n",
        "df_clean.drop(['Time', 'Amount'], axis=1, inplace=True)\r\n",
        "\r\n",
        "# ver as primeiras entradas\r\n",
        "df_clean.head()"
      ],
      "execution_count": null,
      "outputs": [
        {
          "output_type": "execute_result",
          "data": {
            "text/html": [
              "<div>\n",
              "<style scoped>\n",
              "    .dataframe tbody tr th:only-of-type {\n",
              "        vertical-align: middle;\n",
              "    }\n",
              "\n",
              "    .dataframe tbody tr th {\n",
              "        vertical-align: top;\n",
              "    }\n",
              "\n",
              "    .dataframe thead th {\n",
              "        text-align: right;\n",
              "    }\n",
              "</style>\n",
              "<table border=\"1\" class=\"dataframe\">\n",
              "  <thead>\n",
              "    <tr style=\"text-align: right;\">\n",
              "      <th></th>\n",
              "      <th>V1</th>\n",
              "      <th>V2</th>\n",
              "      <th>V3</th>\n",
              "      <th>V4</th>\n",
              "      <th>V5</th>\n",
              "      <th>V6</th>\n",
              "      <th>V7</th>\n",
              "      <th>V8</th>\n",
              "      <th>V9</th>\n",
              "      <th>V10</th>\n",
              "      <th>V11</th>\n",
              "      <th>V12</th>\n",
              "      <th>V13</th>\n",
              "      <th>V14</th>\n",
              "      <th>V15</th>\n",
              "      <th>V16</th>\n",
              "      <th>V17</th>\n",
              "      <th>V18</th>\n",
              "      <th>V19</th>\n",
              "      <th>V20</th>\n",
              "      <th>V21</th>\n",
              "      <th>V22</th>\n",
              "      <th>V23</th>\n",
              "      <th>V24</th>\n",
              "      <th>V25</th>\n",
              "      <th>V26</th>\n",
              "      <th>V27</th>\n",
              "      <th>V28</th>\n",
              "      <th>Class</th>\n",
              "      <th>std_amount</th>\n",
              "      <th>std_time</th>\n",
              "    </tr>\n",
              "  </thead>\n",
              "  <tbody>\n",
              "    <tr>\n",
              "      <th>0</th>\n",
              "      <td>-1.359807</td>\n",
              "      <td>-0.072781</td>\n",
              "      <td>2.536347</td>\n",
              "      <td>1.378155</td>\n",
              "      <td>-0.338321</td>\n",
              "      <td>0.462388</td>\n",
              "      <td>0.239599</td>\n",
              "      <td>0.098698</td>\n",
              "      <td>0.363787</td>\n",
              "      <td>0.090794</td>\n",
              "      <td>-0.551600</td>\n",
              "      <td>-0.617801</td>\n",
              "      <td>-0.991390</td>\n",
              "      <td>-0.311169</td>\n",
              "      <td>1.468177</td>\n",
              "      <td>-0.470401</td>\n",
              "      <td>0.207971</td>\n",
              "      <td>0.025791</td>\n",
              "      <td>0.403993</td>\n",
              "      <td>0.251412</td>\n",
              "      <td>-0.018307</td>\n",
              "      <td>0.277838</td>\n",
              "      <td>-0.110474</td>\n",
              "      <td>0.066928</td>\n",
              "      <td>0.128539</td>\n",
              "      <td>-0.189115</td>\n",
              "      <td>0.133558</td>\n",
              "      <td>-0.021053</td>\n",
              "      <td>0</td>\n",
              "      <td>0.244964</td>\n",
              "      <td>-1.996583</td>\n",
              "    </tr>\n",
              "    <tr>\n",
              "      <th>1</th>\n",
              "      <td>1.191857</td>\n",
              "      <td>0.266151</td>\n",
              "      <td>0.166480</td>\n",
              "      <td>0.448154</td>\n",
              "      <td>0.060018</td>\n",
              "      <td>-0.082361</td>\n",
              "      <td>-0.078803</td>\n",
              "      <td>0.085102</td>\n",
              "      <td>-0.255425</td>\n",
              "      <td>-0.166974</td>\n",
              "      <td>1.612727</td>\n",
              "      <td>1.065235</td>\n",
              "      <td>0.489095</td>\n",
              "      <td>-0.143772</td>\n",
              "      <td>0.635558</td>\n",
              "      <td>0.463917</td>\n",
              "      <td>-0.114805</td>\n",
              "      <td>-0.183361</td>\n",
              "      <td>-0.145783</td>\n",
              "      <td>-0.069083</td>\n",
              "      <td>-0.225775</td>\n",
              "      <td>-0.638672</td>\n",
              "      <td>0.101288</td>\n",
              "      <td>-0.339846</td>\n",
              "      <td>0.167170</td>\n",
              "      <td>0.125895</td>\n",
              "      <td>-0.008983</td>\n",
              "      <td>0.014724</td>\n",
              "      <td>0</td>\n",
              "      <td>-0.342475</td>\n",
              "      <td>-1.996583</td>\n",
              "    </tr>\n",
              "    <tr>\n",
              "      <th>2</th>\n",
              "      <td>-1.358354</td>\n",
              "      <td>-1.340163</td>\n",
              "      <td>1.773209</td>\n",
              "      <td>0.379780</td>\n",
              "      <td>-0.503198</td>\n",
              "      <td>1.800499</td>\n",
              "      <td>0.791461</td>\n",
              "      <td>0.247676</td>\n",
              "      <td>-1.514654</td>\n",
              "      <td>0.207643</td>\n",
              "      <td>0.624501</td>\n",
              "      <td>0.066084</td>\n",
              "      <td>0.717293</td>\n",
              "      <td>-0.165946</td>\n",
              "      <td>2.345865</td>\n",
              "      <td>-2.890083</td>\n",
              "      <td>1.109969</td>\n",
              "      <td>-0.121359</td>\n",
              "      <td>-2.261857</td>\n",
              "      <td>0.524980</td>\n",
              "      <td>0.247998</td>\n",
              "      <td>0.771679</td>\n",
              "      <td>0.909412</td>\n",
              "      <td>-0.689281</td>\n",
              "      <td>-0.327642</td>\n",
              "      <td>-0.139097</td>\n",
              "      <td>-0.055353</td>\n",
              "      <td>-0.059752</td>\n",
              "      <td>0</td>\n",
              "      <td>1.160686</td>\n",
              "      <td>-1.996562</td>\n",
              "    </tr>\n",
              "    <tr>\n",
              "      <th>3</th>\n",
              "      <td>-0.966272</td>\n",
              "      <td>-0.185226</td>\n",
              "      <td>1.792993</td>\n",
              "      <td>-0.863291</td>\n",
              "      <td>-0.010309</td>\n",
              "      <td>1.247203</td>\n",
              "      <td>0.237609</td>\n",
              "      <td>0.377436</td>\n",
              "      <td>-1.387024</td>\n",
              "      <td>-0.054952</td>\n",
              "      <td>-0.226487</td>\n",
              "      <td>0.178228</td>\n",
              "      <td>0.507757</td>\n",
              "      <td>-0.287924</td>\n",
              "      <td>-0.631418</td>\n",
              "      <td>-1.059647</td>\n",
              "      <td>-0.684093</td>\n",
              "      <td>1.965775</td>\n",
              "      <td>-1.232622</td>\n",
              "      <td>-0.208038</td>\n",
              "      <td>-0.108300</td>\n",
              "      <td>0.005274</td>\n",
              "      <td>-0.190321</td>\n",
              "      <td>-1.175575</td>\n",
              "      <td>0.647376</td>\n",
              "      <td>-0.221929</td>\n",
              "      <td>0.062723</td>\n",
              "      <td>0.061458</td>\n",
              "      <td>0</td>\n",
              "      <td>0.140534</td>\n",
              "      <td>-1.996562</td>\n",
              "    </tr>\n",
              "    <tr>\n",
              "      <th>4</th>\n",
              "      <td>-1.158233</td>\n",
              "      <td>0.877737</td>\n",
              "      <td>1.548718</td>\n",
              "      <td>0.403034</td>\n",
              "      <td>-0.407193</td>\n",
              "      <td>0.095921</td>\n",
              "      <td>0.592941</td>\n",
              "      <td>-0.270533</td>\n",
              "      <td>0.817739</td>\n",
              "      <td>0.753074</td>\n",
              "      <td>-0.822843</td>\n",
              "      <td>0.538196</td>\n",
              "      <td>1.345852</td>\n",
              "      <td>-1.119670</td>\n",
              "      <td>0.175121</td>\n",
              "      <td>-0.451449</td>\n",
              "      <td>-0.237033</td>\n",
              "      <td>-0.038195</td>\n",
              "      <td>0.803487</td>\n",
              "      <td>0.408542</td>\n",
              "      <td>-0.009431</td>\n",
              "      <td>0.798278</td>\n",
              "      <td>-0.137458</td>\n",
              "      <td>0.141267</td>\n",
              "      <td>-0.206010</td>\n",
              "      <td>0.502292</td>\n",
              "      <td>0.219422</td>\n",
              "      <td>0.215153</td>\n",
              "      <td>0</td>\n",
              "      <td>-0.073403</td>\n",
              "      <td>-1.996541</td>\n",
              "    </tr>\n",
              "  </tbody>\n",
              "</table>\n",
              "</div>"
            ],
            "text/plain": [
              "         V1        V2        V3  ...  Class  std_amount  std_time\n",
              "0 -1.359807 -0.072781  2.536347  ...      0    0.244964 -1.996583\n",
              "1  1.191857  0.266151  0.166480  ...      0   -0.342475 -1.996583\n",
              "2 -1.358354 -1.340163  1.773209  ...      0    1.160686 -1.996562\n",
              "3 -0.966272 -0.185226  1.792993  ...      0    0.140534 -1.996562\n",
              "4 -1.158233  0.877737  1.548718  ...      0   -0.073403 -1.996541\n",
              "\n",
              "[5 rows x 31 columns]"
            ]
          },
          "metadata": {
            "tags": []
          },
          "execution_count": 16
        }
      ]
    },
    {
      "cell_type": "markdown",
      "metadata": {
        "id": "9AjovEzdlp8X"
      },
      "source": [
        "***Dividir los datos en train y test***\r\n",
        "\r\n",
        "Para garantizar que los conjuntos de entrenamiento y prueba tengan la misma cantidad de clases proporcionalmente, pasamos stratify=True."
      ]
    },
    {
      "cell_type": "code",
      "metadata": {
        "colab": {
          "base_uri": "https://localhost:8080/"
        },
        "id": "kexXfEnizuYG",
        "outputId": "4b704bfc-69b7-4b09-a22a-b06863a65d8b"
      },
      "source": [
        "#Ejemplo: X_train, X_test, y_train, y_test = train_test_split\r\n",
        "import numpy as np\r\n",
        "from sklearn.model_selection import train_test_split\r\n",
        "X, y = np.arange(10).reshape((5, 2)), range(5)\r\n",
        "X"
      ],
      "execution_count": null,
      "outputs": [
        {
          "output_type": "execute_result",
          "data": {
            "text/plain": [
              "array([[0, 1],\n",
              "       [2, 3],\n",
              "       [4, 5],\n",
              "       [6, 7],\n",
              "       [8, 9]])"
            ]
          },
          "metadata": {
            "tags": []
          },
          "execution_count": 26
        }
      ]
    },
    {
      "cell_type": "code",
      "metadata": {
        "colab": {
          "base_uri": "https://localhost:8080/"
        },
        "id": "guJaSCuH0H8x",
        "outputId": "b26d0d42-0b4e-4487-9673-f836705cf360"
      },
      "source": [
        "list(y)"
      ],
      "execution_count": null,
      "outputs": [
        {
          "output_type": "execute_result",
          "data": {
            "text/plain": [
              "[0, 1, 2, 3, 4]"
            ]
          },
          "metadata": {
            "tags": []
          },
          "execution_count": 25
        }
      ]
    },
    {
      "cell_type": "code",
      "metadata": {
        "colab": {
          "base_uri": "https://localhost:8080/"
        },
        "id": "gR1XaUoy1AxI",
        "outputId": "a46b8a24-2a04-4d17-dbbf-f1e90092a1d3"
      },
      "source": [
        "X_train, X_test, y_train, y_test = train_test_split(X, y, test_size=0.33, random_state=42)\r\n",
        "\r\n",
        "X_train\r\n"
      ],
      "execution_count": null,
      "outputs": [
        {
          "output_type": "execute_result",
          "data": {
            "text/plain": [
              "array([[4, 5],\n",
              "       [0, 1],\n",
              "       [6, 7]])"
            ]
          },
          "metadata": {
            "tags": []
          },
          "execution_count": 29
        }
      ]
    },
    {
      "cell_type": "code",
      "metadata": {
        "colab": {
          "base_uri": "https://localhost:8080/"
        },
        "id": "5VaZMfls1RzB",
        "outputId": "95320634-1f22-4487-f96d-3ea5210e7b66"
      },
      "source": [
        "y_train"
      ],
      "execution_count": null,
      "outputs": [
        {
          "output_type": "execute_result",
          "data": {
            "text/plain": [
              "[2, 0, 3]"
            ]
          },
          "metadata": {
            "tags": []
          },
          "execution_count": 35
        }
      ]
    },
    {
      "cell_type": "code",
      "metadata": {
        "colab": {
          "base_uri": "https://localhost:8080/"
        },
        "id": "AnqvMVYk1SHA",
        "outputId": "8d2f896e-8fc4-4665-c8c9-844530f14088"
      },
      "source": [
        "X_test"
      ],
      "execution_count": null,
      "outputs": [
        {
          "output_type": "execute_result",
          "data": {
            "text/plain": [
              "array([[2, 3],\n",
              "       [8, 9]])"
            ]
          },
          "metadata": {
            "tags": []
          },
          "execution_count": 32
        }
      ]
    },
    {
      "cell_type": "code",
      "metadata": {
        "colab": {
          "base_uri": "https://localhost:8080/"
        },
        "id": "HBP6m7j01dI_",
        "outputId": "1d9f1c9b-c9ab-4fae-aeed-448614be4050"
      },
      "source": [
        "y_test"
      ],
      "execution_count": null,
      "outputs": [
        {
          "output_type": "execute_result",
          "data": {
            "text/plain": [
              "[1, 4]"
            ]
          },
          "metadata": {
            "tags": []
          },
          "execution_count": 33
        }
      ]
    },
    {
      "cell_type": "code",
      "metadata": {
        "id": "S5LO2m8-l90E"
      },
      "source": [
        "# separamos la variable en X e y \r\n",
        "X = df_clean.drop('Class', axis=1)\r\n",
        "y = df_cards['Class']\r\n",
        "\r\n",
        "# dividir el dataset en train y test\r\n",
        "X_train, X_test, y_train, y_test = train_test_split(X, y, stratify=y, shuffle=True)"
      ],
      "execution_count": null,
      "outputs": []
    },
    {
      "cell_type": "code",
      "metadata": {
        "id": "BmokM5N15d6s",
        "colab": {
          "base_uri": "https://localhost:8080/",
          "height": 224
        },
        "outputId": "89ec91de-5c1a-464b-97a7-368d9dd32085"
      },
      "source": [
        "X_train.head()"
      ],
      "execution_count": 37,
      "outputs": [
        {
          "output_type": "execute_result",
          "data": {
            "text/html": [
              "<div>\n",
              "<style scoped>\n",
              "    .dataframe tbody tr th:only-of-type {\n",
              "        vertical-align: middle;\n",
              "    }\n",
              "\n",
              "    .dataframe tbody tr th {\n",
              "        vertical-align: top;\n",
              "    }\n",
              "\n",
              "    .dataframe thead th {\n",
              "        text-align: right;\n",
              "    }\n",
              "</style>\n",
              "<table border=\"1\" class=\"dataframe\">\n",
              "  <thead>\n",
              "    <tr style=\"text-align: right;\">\n",
              "      <th></th>\n",
              "      <th>V1</th>\n",
              "      <th>V2</th>\n",
              "      <th>V3</th>\n",
              "      <th>V4</th>\n",
              "      <th>V5</th>\n",
              "      <th>V6</th>\n",
              "      <th>V7</th>\n",
              "      <th>V8</th>\n",
              "      <th>V9</th>\n",
              "      <th>V10</th>\n",
              "      <th>V11</th>\n",
              "      <th>V12</th>\n",
              "      <th>V13</th>\n",
              "      <th>V14</th>\n",
              "      <th>V15</th>\n",
              "      <th>V16</th>\n",
              "      <th>V17</th>\n",
              "      <th>V18</th>\n",
              "      <th>V19</th>\n",
              "      <th>V20</th>\n",
              "      <th>V21</th>\n",
              "      <th>V22</th>\n",
              "      <th>V23</th>\n",
              "      <th>V24</th>\n",
              "      <th>V25</th>\n",
              "      <th>V26</th>\n",
              "      <th>V27</th>\n",
              "      <th>V28</th>\n",
              "      <th>std_amount</th>\n",
              "      <th>std_time</th>\n",
              "    </tr>\n",
              "  </thead>\n",
              "  <tbody>\n",
              "    <tr>\n",
              "      <th>192540</th>\n",
              "      <td>2.046574</td>\n",
              "      <td>-1.221689</td>\n",
              "      <td>-0.028360</td>\n",
              "      <td>-0.705190</td>\n",
              "      <td>-1.288485</td>\n",
              "      <td>0.557410</td>\n",
              "      <td>-1.693206</td>\n",
              "      <td>0.376810</td>\n",
              "      <td>0.199284</td>\n",
              "      <td>1.033573</td>\n",
              "      <td>0.249710</td>\n",
              "      <td>-0.073888</td>\n",
              "      <td>-0.355555</td>\n",
              "      <td>-0.072094</td>\n",
              "      <td>0.870819</td>\n",
              "      <td>-0.139819</td>\n",
              "      <td>-0.959766</td>\n",
              "      <td>2.471495</td>\n",
              "      <td>-1.025602</td>\n",
              "      <td>-0.556615</td>\n",
              "      <td>-0.100467</td>\n",
              "      <td>0.138224</td>\n",
              "      <td>0.332606</td>\n",
              "      <td>0.259935</td>\n",
              "      <td>-0.734462</td>\n",
              "      <td>0.578806</td>\n",
              "      <td>0.006074</td>\n",
              "      <td>-0.036977</td>\n",
              "      <td>-0.269709</td>\n",
              "      <td>0.735640</td>\n",
              "    </tr>\n",
              "    <tr>\n",
              "      <th>28125</th>\n",
              "      <td>1.027126</td>\n",
              "      <td>-0.938923</td>\n",
              "      <td>0.287170</td>\n",
              "      <td>-1.895006</td>\n",
              "      <td>-1.304449</td>\n",
              "      <td>-1.099637</td>\n",
              "      <td>-0.271368</td>\n",
              "      <td>-0.072425</td>\n",
              "      <td>2.008964</td>\n",
              "      <td>-1.471873</td>\n",
              "      <td>1.507081</td>\n",
              "      <td>1.441090</td>\n",
              "      <td>-0.738673</td>\n",
              "      <td>0.394957</td>\n",
              "      <td>0.798613</td>\n",
              "      <td>-0.921682</td>\n",
              "      <td>-0.029648</td>\n",
              "      <td>0.605773</td>\n",
              "      <td>1.368110</td>\n",
              "      <td>0.094690</td>\n",
              "      <td>0.133020</td>\n",
              "      <td>0.359601</td>\n",
              "      <td>-0.209601</td>\n",
              "      <td>0.578541</td>\n",
              "      <td>0.613352</td>\n",
              "      <td>-0.775743</td>\n",
              "      <td>0.053973</td>\n",
              "      <td>0.035821</td>\n",
              "      <td>0.126541</td>\n",
              "      <td>-1.262335</td>\n",
              "    </tr>\n",
              "    <tr>\n",
              "      <th>48125</th>\n",
              "      <td>0.947089</td>\n",
              "      <td>0.267137</td>\n",
              "      <td>-0.019474</td>\n",
              "      <td>2.411245</td>\n",
              "      <td>0.267506</td>\n",
              "      <td>-0.036528</td>\n",
              "      <td>0.460116</td>\n",
              "      <td>0.026288</td>\n",
              "      <td>-1.194734</td>\n",
              "      <td>0.841044</td>\n",
              "      <td>1.234889</td>\n",
              "      <td>0.182261</td>\n",
              "      <td>-1.016735</td>\n",
              "      <td>0.945255</td>\n",
              "      <td>-0.132119</td>\n",
              "      <td>0.288362</td>\n",
              "      <td>-0.395542</td>\n",
              "      <td>-0.324467</td>\n",
              "      <td>-0.981609</td>\n",
              "      <td>-0.037902</td>\n",
              "      <td>0.115249</td>\n",
              "      <td>0.037603</td>\n",
              "      <td>-0.166355</td>\n",
              "      <td>-0.002604</td>\n",
              "      <td>0.559736</td>\n",
              "      <td>0.073360</td>\n",
              "      <td>-0.051981</td>\n",
              "      <td>0.012122</td>\n",
              "      <td>0.063651</td>\n",
              "      <td>-1.080437</td>\n",
              "    </tr>\n",
              "    <tr>\n",
              "      <th>122772</th>\n",
              "      <td>1.314171</td>\n",
              "      <td>-1.421935</td>\n",
              "      <td>0.349231</td>\n",
              "      <td>-1.247845</td>\n",
              "      <td>-1.536010</td>\n",
              "      <td>-0.223229</td>\n",
              "      <td>-1.018588</td>\n",
              "      <td>-0.000538</td>\n",
              "      <td>-1.650515</td>\n",
              "      <td>1.438451</td>\n",
              "      <td>0.502732</td>\n",
              "      <td>-0.296307</td>\n",
              "      <td>-0.151736</td>\n",
              "      <td>-0.342476</td>\n",
              "      <td>-1.233609</td>\n",
              "      <td>-0.572917</td>\n",
              "      <td>0.584619</td>\n",
              "      <td>0.250668</td>\n",
              "      <td>0.568925</td>\n",
              "      <td>-0.192134</td>\n",
              "      <td>-0.326115</td>\n",
              "      <td>-0.636384</td>\n",
              "      <td>-0.056615</td>\n",
              "      <td>-0.032025</td>\n",
              "      <td>0.378664</td>\n",
              "      <td>-0.272920</td>\n",
              "      <td>0.018224</td>\n",
              "      <td>0.019742</td>\n",
              "      <td>0.034265</td>\n",
              "      <td>-0.381840</td>\n",
              "    </tr>\n",
              "    <tr>\n",
              "      <th>257969</th>\n",
              "      <td>1.769406</td>\n",
              "      <td>-0.416245</td>\n",
              "      <td>-0.708800</td>\n",
              "      <td>1.112970</td>\n",
              "      <td>0.664669</td>\n",
              "      <td>2.149538</td>\n",
              "      <td>-0.652580</td>\n",
              "      <td>0.693387</td>\n",
              "      <td>0.956435</td>\n",
              "      <td>0.010800</td>\n",
              "      <td>0.652305</td>\n",
              "      <td>1.393339</td>\n",
              "      <td>-0.475205</td>\n",
              "      <td>0.025295</td>\n",
              "      <td>-0.998473</td>\n",
              "      <td>-1.007688</td>\n",
              "      <td>0.428475</td>\n",
              "      <td>-1.632617</td>\n",
              "      <td>-0.481111</td>\n",
              "      <td>-0.330234</td>\n",
              "      <td>-0.413613</td>\n",
              "      <td>-0.889100</td>\n",
              "      <td>0.493631</td>\n",
              "      <td>-0.820520</td>\n",
              "      <td>-0.518159</td>\n",
              "      <td>-1.035406</td>\n",
              "      <td>0.095063</td>\n",
              "      <td>-0.047232</td>\n",
              "      <td>-0.273308</td>\n",
              "      <td>1.339687</td>\n",
              "    </tr>\n",
              "  </tbody>\n",
              "</table>\n",
              "</div>"
            ],
            "text/plain": [
              "              V1        V2        V3  ...       V28  std_amount  std_time\n",
              "192540  2.046574 -1.221689 -0.028360  ... -0.036977   -0.269709  0.735640\n",
              "28125   1.027126 -0.938923  0.287170  ...  0.035821    0.126541 -1.262335\n",
              "48125   0.947089  0.267137 -0.019474  ...  0.012122    0.063651 -1.080437\n",
              "122772  1.314171 -1.421935  0.349231  ...  0.019742    0.034265 -0.381840\n",
              "257969  1.769406 -0.416245 -0.708800  ... -0.047232   -0.273308  1.339687\n",
              "\n",
              "[5 rows x 30 columns]"
            ]
          },
          "metadata": {
            "tags": []
          },
          "execution_count": 37
        }
      ]
    },
    {
      "cell_type": "code",
      "metadata": {
        "id": "1Jse9_gk5hOZ",
        "colab": {
          "base_uri": "https://localhost:8080/"
        },
        "outputId": "d27ce60e-0c8b-45bd-f277-437ed6970615"
      },
      "source": [
        "X_train.shape"
      ],
      "execution_count": 38,
      "outputs": [
        {
          "output_type": "execute_result",
          "data": {
            "text/plain": [
              "(213605, 30)"
            ]
          },
          "metadata": {
            "tags": []
          },
          "execution_count": 38
        }
      ]
    },
    {
      "cell_type": "code",
      "metadata": {
        "colab": {
          "base_uri": "https://localhost:8080/",
          "height": 224
        },
        "id": "99CRSXya6oSO",
        "outputId": "0c32460c-0fe1-464f-e926-0148834a10ae"
      },
      "source": [
        "X_test.head()\r\n"
      ],
      "execution_count": 39,
      "outputs": [
        {
          "output_type": "execute_result",
          "data": {
            "text/html": [
              "<div>\n",
              "<style scoped>\n",
              "    .dataframe tbody tr th:only-of-type {\n",
              "        vertical-align: middle;\n",
              "    }\n",
              "\n",
              "    .dataframe tbody tr th {\n",
              "        vertical-align: top;\n",
              "    }\n",
              "\n",
              "    .dataframe thead th {\n",
              "        text-align: right;\n",
              "    }\n",
              "</style>\n",
              "<table border=\"1\" class=\"dataframe\">\n",
              "  <thead>\n",
              "    <tr style=\"text-align: right;\">\n",
              "      <th></th>\n",
              "      <th>V1</th>\n",
              "      <th>V2</th>\n",
              "      <th>V3</th>\n",
              "      <th>V4</th>\n",
              "      <th>V5</th>\n",
              "      <th>V6</th>\n",
              "      <th>V7</th>\n",
              "      <th>V8</th>\n",
              "      <th>V9</th>\n",
              "      <th>V10</th>\n",
              "      <th>V11</th>\n",
              "      <th>V12</th>\n",
              "      <th>V13</th>\n",
              "      <th>V14</th>\n",
              "      <th>V15</th>\n",
              "      <th>V16</th>\n",
              "      <th>V17</th>\n",
              "      <th>V18</th>\n",
              "      <th>V19</th>\n",
              "      <th>V20</th>\n",
              "      <th>V21</th>\n",
              "      <th>V22</th>\n",
              "      <th>V23</th>\n",
              "      <th>V24</th>\n",
              "      <th>V25</th>\n",
              "      <th>V26</th>\n",
              "      <th>V27</th>\n",
              "      <th>V28</th>\n",
              "      <th>std_amount</th>\n",
              "      <th>std_time</th>\n",
              "    </tr>\n",
              "  </thead>\n",
              "  <tbody>\n",
              "    <tr>\n",
              "      <th>32577</th>\n",
              "      <td>1.015790</td>\n",
              "      <td>-0.125529</td>\n",
              "      <td>1.174332</td>\n",
              "      <td>1.123338</td>\n",
              "      <td>-0.726474</td>\n",
              "      <td>0.372039</td>\n",
              "      <td>-0.659468</td>\n",
              "      <td>0.321057</td>\n",
              "      <td>0.234161</td>\n",
              "      <td>0.116427</td>\n",
              "      <td>1.436289</td>\n",
              "      <td>0.857339</td>\n",
              "      <td>-0.114354</td>\n",
              "      <td>0.235818</td>\n",
              "      <td>0.983188</td>\n",
              "      <td>0.594755</td>\n",
              "      <td>-0.670089</td>\n",
              "      <td>0.409212</td>\n",
              "      <td>-0.781697</td>\n",
              "      <td>-0.071777</td>\n",
              "      <td>0.203644</td>\n",
              "      <td>0.525905</td>\n",
              "      <td>-0.020512</td>\n",
              "      <td>0.014641</td>\n",
              "      <td>0.215963</td>\n",
              "      <td>-0.352551</td>\n",
              "      <td>0.066276</td>\n",
              "      <td>0.033364</td>\n",
              "      <td>-0.173316</td>\n",
              "      <td>-1.220409</td>\n",
              "    </tr>\n",
              "    <tr>\n",
              "      <th>118741</th>\n",
              "      <td>-0.437209</td>\n",
              "      <td>1.315829</td>\n",
              "      <td>0.849543</td>\n",
              "      <td>1.639569</td>\n",
              "      <td>0.099070</td>\n",
              "      <td>-0.668122</td>\n",
              "      <td>1.157573</td>\n",
              "      <td>-0.303545</td>\n",
              "      <td>-1.026936</td>\n",
              "      <td>-0.437071</td>\n",
              "      <td>0.077682</td>\n",
              "      <td>-0.242721</td>\n",
              "      <td>0.359460</td>\n",
              "      <td>-0.773664</td>\n",
              "      <td>1.672704</td>\n",
              "      <td>-0.433782</td>\n",
              "      <td>1.116208</td>\n",
              "      <td>0.496699</td>\n",
              "      <td>1.345583</td>\n",
              "      <td>0.194600</td>\n",
              "      <td>-0.030075</td>\n",
              "      <td>-0.029770</td>\n",
              "      <td>-0.285579</td>\n",
              "      <td>0.327097</td>\n",
              "      <td>0.506013</td>\n",
              "      <td>-0.082391</td>\n",
              "      <td>-0.051212</td>\n",
              "      <td>0.008679</td>\n",
              "      <td>-0.003317</td>\n",
              "      <td>-0.413090</td>\n",
              "    </tr>\n",
              "    <tr>\n",
              "      <th>171894</th>\n",
              "      <td>1.152851</td>\n",
              "      <td>-2.557103</td>\n",
              "      <td>0.444750</td>\n",
              "      <td>1.294268</td>\n",
              "      <td>-2.106910</td>\n",
              "      <td>1.431016</td>\n",
              "      <td>-1.457136</td>\n",
              "      <td>0.449034</td>\n",
              "      <td>1.070526</td>\n",
              "      <td>0.602039</td>\n",
              "      <td>-0.641458</td>\n",
              "      <td>1.172866</td>\n",
              "      <td>0.309558</td>\n",
              "      <td>-1.154004</td>\n",
              "      <td>-2.345828</td>\n",
              "      <td>-1.448524</td>\n",
              "      <td>-0.090503</td>\n",
              "      <td>2.107270</td>\n",
              "      <td>-0.697819</td>\n",
              "      <td>0.142719</td>\n",
              "      <td>0.032980</td>\n",
              "      <td>0.229038</td>\n",
              "      <td>-0.193125</td>\n",
              "      <td>-0.390218</td>\n",
              "      <td>-0.384705</td>\n",
              "      <td>-0.508916</td>\n",
              "      <td>0.085374</td>\n",
              "      <td>0.042510</td>\n",
              "      <td>1.269994</td>\n",
              "      <td>0.548604</td>\n",
              "    </tr>\n",
              "    <tr>\n",
              "      <th>76133</th>\n",
              "      <td>-0.353376</td>\n",
              "      <td>1.152752</td>\n",
              "      <td>1.304940</td>\n",
              "      <td>0.061918</td>\n",
              "      <td>0.087467</td>\n",
              "      <td>-0.978813</td>\n",
              "      <td>0.743729</td>\n",
              "      <td>-0.103853</td>\n",
              "      <td>-0.478088</td>\n",
              "      <td>-0.527562</td>\n",
              "      <td>-0.116848</td>\n",
              "      <td>0.215712</td>\n",
              "      <td>0.670925</td>\n",
              "      <td>-0.538423</td>\n",
              "      <td>0.833809</td>\n",
              "      <td>0.356306</td>\n",
              "      <td>-0.022699</td>\n",
              "      <td>-0.205717</td>\n",
              "      <td>-0.095228</td>\n",
              "      <td>0.155851</td>\n",
              "      <td>-0.255398</td>\n",
              "      <td>-0.644836</td>\n",
              "      <td>-0.015545</td>\n",
              "      <td>0.349179</td>\n",
              "      <td>-0.140808</td>\n",
              "      <td>0.069965</td>\n",
              "      <td>0.248280</td>\n",
              "      <td>0.099877</td>\n",
              "      <td>-0.335278</td>\n",
              "      <td>-0.808706</td>\n",
              "    </tr>\n",
              "    <tr>\n",
              "      <th>29627</th>\n",
              "      <td>1.202411</td>\n",
              "      <td>0.193871</td>\n",
              "      <td>-0.095970</td>\n",
              "      <td>0.982172</td>\n",
              "      <td>-0.163600</td>\n",
              "      <td>-0.512284</td>\n",
              "      <td>-0.056364</td>\n",
              "      <td>-0.079335</td>\n",
              "      <td>0.603291</td>\n",
              "      <td>-0.785533</td>\n",
              "      <td>-0.805914</td>\n",
              "      <td>0.099208</td>\n",
              "      <td>0.034108</td>\n",
              "      <td>-1.613644</td>\n",
              "      <td>-0.209417</td>\n",
              "      <td>0.245686</td>\n",
              "      <td>0.948117</td>\n",
              "      <td>0.186570</td>\n",
              "      <td>0.164031</td>\n",
              "      <td>-0.015250</td>\n",
              "      <td>-0.201385</td>\n",
              "      <td>-0.367963</td>\n",
              "      <td>-0.173631</td>\n",
              "      <td>-0.171400</td>\n",
              "      <td>0.611550</td>\n",
              "      <td>0.440182</td>\n",
              "      <td>-0.001700</td>\n",
              "      <td>0.041218</td>\n",
              "      <td>-0.235046</td>\n",
              "      <td>-1.247890</td>\n",
              "    </tr>\n",
              "  </tbody>\n",
              "</table>\n",
              "</div>"
            ],
            "text/plain": [
              "              V1        V2        V3  ...       V28  std_amount  std_time\n",
              "32577   1.015790 -0.125529  1.174332  ...  0.033364   -0.173316 -1.220409\n",
              "118741 -0.437209  1.315829  0.849543  ...  0.008679   -0.003317 -0.413090\n",
              "171894  1.152851 -2.557103  0.444750  ...  0.042510    1.269994  0.548604\n",
              "76133  -0.353376  1.152752  1.304940  ...  0.099877   -0.335278 -0.808706\n",
              "29627   1.202411  0.193871 -0.095970  ...  0.041218   -0.235046 -1.247890\n",
              "\n",
              "[5 rows x 30 columns]"
            ]
          },
          "metadata": {
            "tags": []
          },
          "execution_count": 39
        }
      ]
    },
    {
      "cell_type": "code",
      "metadata": {
        "colab": {
          "base_uri": "https://localhost:8080/"
        },
        "id": "VrugAMi76vdR",
        "outputId": "d4a97af5-b213-436b-8cb3-6fc5ebc1c499"
      },
      "source": [
        "X_test.shape"
      ],
      "execution_count": 40,
      "outputs": [
        {
          "output_type": "execute_result",
          "data": {
            "text/plain": [
              "(71202, 30)"
            ]
          },
          "metadata": {
            "tags": []
          },
          "execution_count": 40
        }
      ]
    },
    {
      "cell_type": "code",
      "metadata": {
        "colab": {
          "base_uri": "https://localhost:8080/"
        },
        "id": "tYYKoiDq607h",
        "outputId": "3488c00d-6319-434a-a0b0-5756197f666a"
      },
      "source": [
        "y_train.head()"
      ],
      "execution_count": 41,
      "outputs": [
        {
          "output_type": "execute_result",
          "data": {
            "text/plain": [
              "192540    0\n",
              "28125     0\n",
              "48125     0\n",
              "122772    0\n",
              "257969    0\n",
              "Name: Class, dtype: int64"
            ]
          },
          "metadata": {
            "tags": []
          },
          "execution_count": 41
        }
      ]
    },
    {
      "cell_type": "code",
      "metadata": {
        "colab": {
          "base_uri": "https://localhost:8080/"
        },
        "id": "w5RCmBFn7BIq",
        "outputId": "89347bb2-ac01-450d-9a88-85147aa6c528"
      },
      "source": [
        "y_test.head"
      ],
      "execution_count": 42,
      "outputs": [
        {
          "output_type": "execute_result",
          "data": {
            "text/plain": [
              "<bound method NDFrame.head of 32577     0\n",
              "118741    0\n",
              "171894    0\n",
              "76133     0\n",
              "29627     0\n",
              "         ..\n",
              "172630    0\n",
              "45498     0\n",
              "77158     0\n",
              "12568     0\n",
              "137854    0\n",
              "Name: Class, Length: 71202, dtype: int64>"
            ]
          },
          "metadata": {
            "tags": []
          },
          "execution_count": 42
        }
      ]
    },
    {
      "cell_type": "code",
      "metadata": {
        "colab": {
          "base_uri": "https://localhost:8080/"
        },
        "id": "fZJfGivs7N8F",
        "outputId": "8251cc12-76f7-4074-f9b9-9b5e6f814e3e"
      },
      "source": [
        "y_train.shape,y_test.shape"
      ],
      "execution_count": 43,
      "outputs": [
        {
          "output_type": "execute_result",
          "data": {
            "text/plain": [
              "((213605,), (71202,))"
            ]
          },
          "metadata": {
            "tags": []
          },
          "execution_count": 43
        }
      ]
    },
    {
      "cell_type": "markdown",
      "metadata": {
        "id": "tHGRFl2h8Lwn"
      },
      "source": [
        "Con la biblioteca **imblearn** es posible aplicar fácilmente técnicas de equilibrio de datos. En este caso, la opción en este proyecto fue utilizar Under-sampling (submuestras), preservando la clase minoritaria.\r\n",
        "\r\n",
        "Es fácil ver que ya no existe esa discrepancia inicial (gráfico de barras al comienzo de este notebook)."
      ]
    },
    {
      "cell_type": "code",
      "metadata": {
        "colab": {
          "base_uri": "https://localhost:8080/",
          "height": 316
        },
        "id": "HJID7dWL8bNM",
        "outputId": "384ed379-3bf6-450b-cc33-3a748e50f1cb"
      },
      "source": [
        "# Técnica under-sampling\r\n",
        "rus = RandomUnderSampler()\r\n",
        "X_rus, y_rus = rus.fit_sample(X_train, y_train)\r\n",
        "\r\n",
        "# Equilibrio de las clases\r\n",
        "print(pd.Series(y_rus).value_counts())\r\n",
        "\r\n",
        "# Graficar nueva distribución de las clases\r\n",
        "sns.countplot(y_rus);"
      ],
      "execution_count": 44,
      "outputs": [
        {
          "output_type": "stream",
          "text": [
            "1    369\n",
            "0    369\n",
            "dtype: int64\n"
          ],
          "name": "stdout"
        },
        {
          "output_type": "display_data",
          "data": {
            "image/png": "[encoded data removed]",
            "text/plain": [
              "<Figure size 432x288 with 1 Axes>"
            ]
          },
          "metadata": {
            "tags": []
          }
        }
      ]
    },
    {
      "cell_type": "markdown",
      "metadata": {
        "id": "ACwOSrso_gjf"
      },
      "source": [
        "Con los datos balanceados, podemos ver la matriz de correlación e identificar qué variables están más fuertemente relacionadas con las demás.\r\n"
      ]
    },
    {
      "cell_type": "code",
      "metadata": {
        "colab": {
          "base_uri": "https://localhost:8080/",
          "height": 589
        },
        "id": "Iq2akWE__ox9",
        "outputId": "351923d0-e130-4e2c-92ed-94e350798cb1"
      },
      "source": [
        "# Graficar matriz de correlacion\r\n",
        "corr = X_train.corr()\r\n",
        "corr_rus = pd.DataFrame(X_rus).corr()\r\n",
        "\r\n",
        "\r\n",
        "fig, ax = plt.subplots(nrows=1, ncols=2, figsize = (18,8))\r\n",
        "fig.suptitle('Matriz de Correlación')\r\n",
        "\r\n",
        "sns.heatmap(corr, xticklabels=corr.columns, yticklabels=corr.columns,\r\n",
        "            linewidths=.1, cmap=\"coolwarm\", ax=ax[0])\r\n",
        "ax[0].set_title('Desbalanceado')\r\n",
        "\r\n",
        "sns.heatmap(corr_rus, xticklabels=corr.columns, yticklabels=corr.columns,\r\n",
        "            linewidths=.1, cmap=\"coolwarm\", ax=ax[1])\r\n",
        "ax[1].set_title('Balanceado')\r\n",
        "\r\n",
        "plt.show()"
      ],
      "execution_count": 45,
      "outputs": [
        {
          "output_type": "display_data",
          "data": {
            "image/png": "[encoded data removed]",
            "text/plain": [
              "<Figure size 1296x576 with 4 Axes>"
            ]
          },
          "metadata": {
            "tags": []
          }
        }
      ]
    },
    {
      "cell_type": "markdown",
      "metadata": {
        "id": "Z1Pa3RUjBiLX"
      },
      "source": [
        "## Modelo de Machine Learning"
      ]
    },
    {
      "cell_type": "code",
      "metadata": {
        "id": "k-OYhb_3A7ty"
      },
      "source": [
        "# instanciar y entrenar un modelo de Regresión Logistica\r\n",
        "np.random.seed(2)\r\n",
        "model = LogisticRegression()\r\n",
        "model.fit(X_rus, y_rus)\r\n",
        "\r\n",
        "# hacer predicciones sobre los datos de prueba\r\n",
        "y_pred = model.predict(X_test)\r\n",
        "y_proba = model.predict_proba(X_test)"
      ],
      "execution_count": 46,
      "outputs": []
    },
    {
      "cell_type": "markdown",
      "metadata": {
        "id": "f4VDPDiWDpIn"
      },
      "source": [
        "\r\n",
        "Con el modelo entrenado y las predicciones realizadas, se procede a evaluar el rendimiento.\r\n",
        "\r\n",
        "En este tipo de problemas, originalmente desequilibrados, la precisión no es una métrica adecuada, se puede presentar el caso: tener una precisión del 99,88% y detectar menos del 60% de fraude.\r\n",
        "\r\n",
        "La matriz de confusión para ver la tasa de aciertos de transacciones fraudulentas, o por la columna de recuperación del Informe de clasificación."
      ]
    },
    {
      "cell_type": "code",
      "metadata": {
        "colab": {
          "base_uri": "https://localhost:8080/",
          "height": 533
        },
        "id": "gxVThZQWB52M",
        "outputId": "72aaaf0e-f761-49aa-a64a-787cc7c17196"
      },
      "source": [
        "# Matriz de confusión\r\n",
        "skplt.metrics.plot_confusion_matrix(y_test, y_pred, normalize=True)\r\n",
        "\r\n",
        "# Informe de clasificación\r\n",
        "print(\"Informe de clasificación:\\n\", classification_report(y_test, y_pred, digits=4))\r\n",
        "\r\n",
        "# Presición del modelo\r\n",
        "print(\"Presición: {:.4f}\\n\".format(accuracy_score(y_test, y_pred)))\r\n",
        "\r\n",
        "# Area sob de la curva\r\n",
        "print(\"AUC: {:.4f}\\n\".format(roc_auc_score(y_test, y_pred)))"
      ],
      "execution_count": 47,
      "outputs": [
        {
          "output_type": "stream",
          "text": [
            "Informe de clasificación:\n",
            "               precision    recall  f1-score   support\n",
            "\n",
            "           0     0.9998    0.9682    0.9837     71079\n",
            "           1     0.0472    0.9106    0.0897       123\n",
            "\n",
            "    accuracy                         0.9681     71202\n",
            "   macro avg     0.5235    0.9394    0.5367     71202\n",
            "weighted avg     0.9982    0.9681    0.9822     71202\n",
            "\n",
            "Presición: 0.9681\n",
            "\n",
            "AUC: 0.9394\n",
            "\n"
          ],
          "name": "stdout"
        },
        {
          "output_type": "display_data",
          "data": {
            "image/png": "[encoded data removed]",
            "text/plain": [
              "<Figure size 432x288 with 2 Axes>"
            ]
          },
          "metadata": {
            "tags": []
          }
        }
      ]
    },
    {
      "cell_type": "markdown",
      "metadata": {
        "id": "ns45qwNKFVGu"
      },
      "source": [
        "\r\n",
        "Como puede ver, este no es un problema trivial. A pesar de que los datos están bien tratados y limpios, sin valores perdidos ni variables categóricas, el desequilibrio y la Transformación del PCA requirieron un trabajo considerable.\r\n",
        "\r\n",
        "Evidentemente, a pesar del buen resultado final, hay margen para testear el rendimiento con otros algoritmos de clasificación, además de optimizar sus parámetros."
      ]
    },
    {
      "cell_type": "code",
      "metadata": {
        "id": "t3uryemLFWt6"
      },
      "source": [
        ""
      ],
      "execution_count": null,
      "outputs": []
    }
  ]
}
